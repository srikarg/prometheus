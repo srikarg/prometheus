{
 "cells": [
  {
   "cell_type": "code",
   "execution_count": 1,
   "metadata": {
    "collapsed": false
   },
   "outputs": [
    {
     "data": {
      "text/plain": [
       "(2377, 127)"
      ]
     },
     "execution_count": 1,
     "metadata": {},
     "output_type": "execute_result"
    }
   ],
   "source": [
    "# Dependencies and dataload\n",
    "# Link to associated webkit\n",
    "# http://scikit-learn.org/stable/modules/feature_selection.html#l1-feature-selection\n",
    "# Module 1.13.4.3\n",
    "\n",
    "import pandas as pd\n",
    "from numpy import genfromtxt\n",
    "from sklearn.ensemble import ExtraTreesClassifier\n",
    "from sklearn.feature_selection import SelectFromModel\n",
    "\n",
    "my_data = pd.read_csv('/Users/stevensun/Prometheus/0_data/prometheus.csv')\n",
    "my_data.shape"
   ]
  },
  {
   "cell_type": "code",
   "execution_count": 2,
   "metadata": {
    "collapsed": false
   },
   "outputs": [
    {
     "data": {
      "text/plain": [
       "(690, 127)"
      ]
     },
     "execution_count": 2,
     "metadata": {},
     "output_type": "execute_result"
    }
   ],
   "source": [
    "#drop incomplete rows\n",
    "\n",
    "my_data = my_data.dropna()\n",
    "my_data.shape"
   ]
  },
  {
   "cell_type": "code",
   "execution_count": 3,
   "metadata": {
    "collapsed": false
   },
   "outputs": [],
   "source": [
    "# vectorize data\n",
    "\n",
    "X = my_data.ix[:,0:125]\n",
    "y = my_data.ix[:,126]"
   ]
  },
  {
   "cell_type": "code",
   "execution_count": 4,
   "metadata": {
    "collapsed": false
   },
   "outputs": [
    {
     "data": {
      "text/plain": [
       "array([ 0.01355039,  0.02270457,  0.02214986,  0.02058124,  0.01877171,\n",
       "        0.00139142,  0.        ,  0.00023918,  0.00078545,  0.00342702,\n",
       "        0.00031183,  0.        ,  0.00092082,  0.00092154,  0.00868893,\n",
       "        0.00815417,  0.01108623,  0.        ,  0.00779338,  0.01771642,\n",
       "        0.00047992,  0.00223828,  0.00726732,  0.00017678,  0.        ,\n",
       "        0.00303171,  0.        ,  0.        ,  0.00931858,  0.        ,\n",
       "        0.00178323,  0.00722339,  0.00479601,  0.01039986,  0.00722352,\n",
       "        0.00049225,  0.00742903,  0.00505608,  0.00885627,  0.        ,\n",
       "        0.00964038,  0.00835693,  0.00365094,  0.00917344,  0.00028772,\n",
       "        0.00299425,  0.00413148,  0.01258967,  0.0097799 ,  0.00052226,\n",
       "        0.00487916,  0.00477359,  0.00136794,  0.00024953,  0.00330102,\n",
       "        0.00949345,  0.0001924 ,  0.00309276,  0.00126159,  0.01273807,\n",
       "        0.01853786,  0.02264098,  0.02280121,  0.02508943,  0.02024462,\n",
       "        0.02608809,  0.00929654,  0.00602736,  0.00998019,  0.02642978,\n",
       "        0.00136641,  0.00320686,  0.        ,  0.00832495,  0.00277263,\n",
       "        0.01978007,  0.01310213,  0.02716505,  0.00776912,  0.01551319,\n",
       "        0.01052427,  0.00085896,  0.00074808,  0.        ,  0.        ,\n",
       "        0.        ,  0.00025126,  0.00598303,  0.        ,  0.        ,\n",
       "        0.00468838,  0.01544081,  0.00211301,  0.01115715,  0.01122294,\n",
       "        0.00151127,  0.02560298,  0.00993088,  0.00766023,  0.        ,\n",
       "        0.00147389,  0.00046301,  0.00141899,  0.0010531 ,  0.00098893,\n",
       "        0.00541924,  0.        ,  0.        ,  0.        ,  0.01791638,\n",
       "        0.0176537 ,  0.02194039,  0.01738548,  0.02017042,  0.01811251,\n",
       "        0.01864846,  0.01803284,  0.02090557,  0.00830569,  0.00699004,\n",
       "        0.01409974,  0.01535629,  0.01526684,  0.01197851,  0.0151474 ])"
      ]
     },
     "execution_count": 4,
     "metadata": {},
     "output_type": "execute_result"
    }
   ],
   "source": [
    "# C controls sparcity: The smaller C, the fewer features selected\n",
    "#\n",
    "clf = ExtraTreesClassifier()\n",
    "clf = clf.fit(X,y)\n",
    "feature_weights = clf.feature_importances_\n",
    "feature_weights\n"
   ]
  },
  {
   "cell_type": "code",
   "execution_count": 5,
   "metadata": {
    "collapsed": false
   },
   "outputs": [
    {
     "data": {
      "text/plain": [
       "(690, 54)"
      ]
     },
     "execution_count": 5,
     "metadata": {},
     "output_type": "execute_result"
    }
   ],
   "source": [
    "# Create feature selected model\n",
    "model = SelectFromModel(clf,prefit=True)\n",
    "X_new = model.transform(X)\n",
    "X_new.shape"
   ]
  },
  {
   "cell_type": "code",
   "execution_count": 6,
   "metadata": {
    "collapsed": false
   },
   "outputs": [],
   "source": [
    "# Create list of features identified\n",
    "features_selected = X.ix[:,model.get_support()]\n",
    "feature_list = features_selected.columns"
   ]
  },
  {
   "cell_type": "code",
   "execution_count": 7,
   "metadata": {
    "collapsed": false
   },
   "outputs": [
    {
     "data": {
      "text/html": [
       "<div>\n",
       "<table border=\"1\" class=\"dataframe\">\n",
       "  <thead>\n",
       "    <tr style=\"text-align: right;\">\n",
       "      <th></th>\n",
       "      <th>0</th>\n",
       "    </tr>\n",
       "  </thead>\n",
       "  <tbody>\n",
       "    <tr>\n",
       "      <th>SEX</th>\n",
       "      <td>0.013550</td>\n",
       "    </tr>\n",
       "    <tr>\n",
       "      <th>BMI</th>\n",
       "      <td>0.022705</td>\n",
       "    </tr>\n",
       "    <tr>\n",
       "      <th>AGE (normalized 30-80)</th>\n",
       "      <td>0.022150</td>\n",
       "    </tr>\n",
       "    <tr>\n",
       "      <th>ANAT_DEGREE_normalized VAR-VAL_-25_+25</th>\n",
       "      <td>0.020581</td>\n",
       "    </tr>\n",
       "    <tr>\n",
       "      <th>RC_WHT</th>\n",
       "      <td>0.018772</td>\n",
       "    </tr>\n",
       "    <tr>\n",
       "      <th>LTHPN_STD</th>\n",
       "      <td>0.008689</td>\n",
       "    </tr>\n",
       "    <tr>\n",
       "      <th>RTHPN_STD</th>\n",
       "      <td>0.008154</td>\n",
       "    </tr>\n",
       "    <tr>\n",
       "      <th>PTRT_NONE_YN</th>\n",
       "      <td>0.011086</td>\n",
       "    </tr>\n",
       "    <tr>\n",
       "      <th>PTRT_INTRA_INJECT_YN</th>\n",
       "      <td>0.017716</td>\n",
       "    </tr>\n",
       "    <tr>\n",
       "      <th>GM_NONE_YN</th>\n",
       "      <td>0.009319</td>\n",
       "    </tr>\n",
       "    <tr>\n",
       "      <th>GM_CARDIO_YN</th>\n",
       "      <td>0.010400</td>\n",
       "    </tr>\n",
       "    <tr>\n",
       "      <th>GM_END_METABLIC_YN</th>\n",
       "      <td>0.008856</td>\n",
       "    </tr>\n",
       "    <tr>\n",
       "      <th>GM_GASTRO_DIS_YN</th>\n",
       "      <td>0.009640</td>\n",
       "    </tr>\n",
       "    <tr>\n",
       "      <th>GM_GENIT_DIS_YN</th>\n",
       "      <td>0.008357</td>\n",
       "    </tr>\n",
       "    <tr>\n",
       "      <th>GM_HEENT_YN</th>\n",
       "      <td>0.009173</td>\n",
       "    </tr>\n",
       "    <tr>\n",
       "      <th>GM_HYPTN_YN</th>\n",
       "      <td>0.012590</td>\n",
       "    </tr>\n",
       "    <tr>\n",
       "      <th>GM_HYPCHOL_YN</th>\n",
       "      <td>0.009780</td>\n",
       "    </tr>\n",
       "    <tr>\n",
       "      <th>GM_RESP_DIS_YN</th>\n",
       "      <td>0.009493</td>\n",
       "    </tr>\n",
       "    <tr>\n",
       "      <th>GM_OTHER_YN</th>\n",
       "      <td>0.012738</td>\n",
       "    </tr>\n",
       "    <tr>\n",
       "      <th>AP Alignment Angle</th>\n",
       "      <td>0.018538</td>\n",
       "    </tr>\n",
       "    <tr>\n",
       "      <th>Distal Femoral Angle</th>\n",
       "      <td>0.022641</td>\n",
       "    </tr>\n",
       "    <tr>\n",
       "      <th>Proximal Tibial Angle</th>\n",
       "      <td>0.022801</td>\n",
       "    </tr>\n",
       "    <tr>\n",
       "      <th>Femoral Component Flexion</th>\n",
       "      <td>0.025089</td>\n",
       "    </tr>\n",
       "    <tr>\n",
       "      <th>Posterior Tibial Slope</th>\n",
       "      <td>0.020245</td>\n",
       "    </tr>\n",
       "    <tr>\n",
       "      <th>PROC_DUR_MIN (normalized 25 to 230 min)</th>\n",
       "      <td>0.026088</td>\n",
       "    </tr>\n",
       "    <tr>\n",
       "      <th>DEVIMP_PSFB</th>\n",
       "      <td>0.009297</td>\n",
       "    </tr>\n",
       "    <tr>\n",
       "      <th>DEVIMP_CRFB</th>\n",
       "      <td>0.009980</td>\n",
       "    </tr>\n",
       "    <tr>\n",
       "      <th>DEVIMP_CRRP</th>\n",
       "      <td>0.026430</td>\n",
       "    </tr>\n",
       "    <tr>\n",
       "      <th>SRG_APPROACH_MEDIAL_PARAPATELLAR</th>\n",
       "      <td>0.008325</td>\n",
       "    </tr>\n",
       "    <tr>\n",
       "      <th>SRG_APPROACH_TRIVECTOR</th>\n",
       "      <td>0.019780</td>\n",
       "    </tr>\n",
       "    <tr>\n",
       "      <th>PAT_MANAGE_EVERTED</th>\n",
       "      <td>0.013102</td>\n",
       "    </tr>\n",
       "    <tr>\n",
       "      <th>PAT_MANAGE_SUBLUXED</th>\n",
       "      <td>0.027165</td>\n",
       "    </tr>\n",
       "    <tr>\n",
       "      <th>RESECTION_GAPBALANCE</th>\n",
       "      <td>0.015513</td>\n",
       "    </tr>\n",
       "    <tr>\n",
       "      <th>RESECTION_MEASURED</th>\n",
       "      <td>0.010524</td>\n",
       "    </tr>\n",
       "    <tr>\n",
       "      <th>ANTI_CEMENT</th>\n",
       "      <td>0.015441</td>\n",
       "    </tr>\n",
       "    <tr>\n",
       "      <th>ST_NONE_YN</th>\n",
       "      <td>0.011157</td>\n",
       "    </tr>\n",
       "    <tr>\n",
       "      <th>ST_SYN_YN</th>\n",
       "      <td>0.011223</td>\n",
       "    </tr>\n",
       "    <tr>\n",
       "      <th>ST_DEEP_MCL_YN</th>\n",
       "      <td>0.025603</td>\n",
       "    </tr>\n",
       "    <tr>\n",
       "      <th>ST_POST_MED_CAP_YN</th>\n",
       "      <td>0.009931</td>\n",
       "    </tr>\n",
       "    <tr>\n",
       "      <th>preop PKIP confidence</th>\n",
       "      <td>0.017916</td>\n",
       "    </tr>\n",
       "    <tr>\n",
       "      <th>preop PKIP stability</th>\n",
       "      <td>0.017654</td>\n",
       "    </tr>\n",
       "    <tr>\n",
       "      <th>preop PKIP modify</th>\n",
       "      <td>0.021940</td>\n",
       "    </tr>\n",
       "    <tr>\n",
       "      <th>preop PKIP satisfaction</th>\n",
       "      <td>0.017385</td>\n",
       "    </tr>\n",
       "    <tr>\n",
       "      <th>preop PKIP total score</th>\n",
       "      <td>0.020170</td>\n",
       "    </tr>\n",
       "    <tr>\n",
       "      <th>preop KSS_EXT (norm 0 to 40)</th>\n",
       "      <td>0.018113</td>\n",
       "    </tr>\n",
       "    <tr>\n",
       "      <th>preop KSS_FLEX (norm 70 to 150)</th>\n",
       "      <td>0.018648</td>\n",
       "    </tr>\n",
       "    <tr>\n",
       "      <th>preop KS_PAIN_STAIRS</th>\n",
       "      <td>0.018033</td>\n",
       "    </tr>\n",
       "    <tr>\n",
       "      <th>postop KS_PAIN_WALK</th>\n",
       "      <td>0.020906</td>\n",
       "    </tr>\n",
       "    <tr>\n",
       "      <th>preop KS_PAT_EXP1</th>\n",
       "      <td>0.008306</td>\n",
       "    </tr>\n",
       "    <tr>\n",
       "      <th>preop KS_PAT_EXP3</th>\n",
       "      <td>0.014100</td>\n",
       "    </tr>\n",
       "    <tr>\n",
       "      <th>preop KS_PAT_SAT1</th>\n",
       "      <td>0.015356</td>\n",
       "    </tr>\n",
       "    <tr>\n",
       "      <th>preop KS_PAT_SAT2</th>\n",
       "      <td>0.015267</td>\n",
       "    </tr>\n",
       "    <tr>\n",
       "      <th>preop KS_PAT_SAT3</th>\n",
       "      <td>0.011979</td>\n",
       "    </tr>\n",
       "    <tr>\n",
       "      <th>preop KS_PAT_SAT4</th>\n",
       "      <td>0.015147</td>\n",
       "    </tr>\n",
       "  </tbody>\n",
       "</table>\n",
       "</div>"
      ],
      "text/plain": [
       "                                                0\n",
       "SEX                                      0.013550\n",
       "BMI                                      0.022705\n",
       "AGE (normalized 30-80)                   0.022150\n",
       "ANAT_DEGREE_normalized VAR-VAL_-25_+25   0.020581\n",
       "RC_WHT                                   0.018772\n",
       "LTHPN_STD                                0.008689\n",
       "RTHPN_STD                                0.008154\n",
       "PTRT_NONE_YN                             0.011086\n",
       "PTRT_INTRA_INJECT_YN                     0.017716\n",
       "GM_NONE_YN                               0.009319\n",
       "GM_CARDIO_YN                             0.010400\n",
       "GM_END_METABLIC_YN                       0.008856\n",
       "GM_GASTRO_DIS_YN                         0.009640\n",
       "GM_GENIT_DIS_YN                          0.008357\n",
       "GM_HEENT_YN                              0.009173\n",
       "GM_HYPTN_YN                              0.012590\n",
       "GM_HYPCHOL_YN                            0.009780\n",
       "GM_RESP_DIS_YN                           0.009493\n",
       "GM_OTHER_YN                              0.012738\n",
       "AP Alignment Angle                       0.018538\n",
       "Distal Femoral Angle                     0.022641\n",
       "Proximal Tibial Angle                    0.022801\n",
       "Femoral Component Flexion                0.025089\n",
       "Posterior Tibial Slope                   0.020245\n",
       "PROC_DUR_MIN (normalized 25 to 230 min)  0.026088\n",
       "DEVIMP_PSFB                              0.009297\n",
       "DEVIMP_CRFB                              0.009980\n",
       "DEVIMP_CRRP                              0.026430\n",
       "SRG_APPROACH_MEDIAL_PARAPATELLAR         0.008325\n",
       "SRG_APPROACH_TRIVECTOR                   0.019780\n",
       "PAT_MANAGE_EVERTED                       0.013102\n",
       "PAT_MANAGE_SUBLUXED                      0.027165\n",
       "RESECTION_GAPBALANCE                     0.015513\n",
       "RESECTION_MEASURED                       0.010524\n",
       "ANTI_CEMENT                              0.015441\n",
       "ST_NONE_YN                               0.011157\n",
       "ST_SYN_YN                                0.011223\n",
       "ST_DEEP_MCL_YN                           0.025603\n",
       "ST_POST_MED_CAP_YN                       0.009931\n",
       "preop PKIP confidence                    0.017916\n",
       "preop PKIP stability                     0.017654\n",
       "preop PKIP modify                        0.021940\n",
       "preop PKIP satisfaction                  0.017385\n",
       "preop PKIP total score                   0.020170\n",
       "preop KSS_EXT (norm 0 to 40)             0.018113\n",
       "preop KSS_FLEX (norm 70 to 150)          0.018648\n",
       "preop KS_PAIN_STAIRS                     0.018033\n",
       "postop KS_PAIN_WALK                      0.020906\n",
       "preop KS_PAT_EXP1                        0.008306\n",
       "preop KS_PAT_EXP3                        0.014100\n",
       "preop KS_PAT_SAT1                        0.015356\n",
       "preop KS_PAT_SAT2                        0.015267\n",
       "preop KS_PAT_SAT3                        0.011979\n",
       "preop KS_PAT_SAT4                        0.015147"
      ]
     },
     "execution_count": 7,
     "metadata": {},
     "output_type": "execute_result"
    }
   ],
   "source": [
    "# Adjust to make human readable\n",
    "# Create table of features and associated weights\n",
    "coefficients = pd.DataFrame(feature_weights).transpose()\n",
    "coefficients.columns = X.columns\n",
    "coefficients[feature_list].transpose()"
   ]
  },
  {
   "cell_type": "code",
   "execution_count": null,
   "metadata": {
    "collapsed": true
   },
   "outputs": [],
   "source": []
  }
 ],
 "metadata": {
  "anaconda-cloud": {},
  "kernelspec": {
   "display_name": "Python [conda root]",
   "language": "python",
   "name": "conda-root-py"
  },
  "language_info": {
   "codemirror_mode": {
    "name": "ipython",
    "version": 3
   },
   "file_extension": ".py",
   "mimetype": "text/x-python",
   "name": "python",
   "nbconvert_exporter": "python",
   "pygments_lexer": "ipython3",
   "version": "3.5.2"
  }
 },
 "nbformat": 4,
 "nbformat_minor": 1
}
