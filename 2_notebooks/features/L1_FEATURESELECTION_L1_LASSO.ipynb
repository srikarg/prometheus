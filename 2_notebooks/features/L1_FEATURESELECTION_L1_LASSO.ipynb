{
 "cells": [
  {
   "cell_type": "code",
   "execution_count": 163,
   "metadata": {
    "collapsed": false,
    "scrolled": true
   },
   "outputs": [
    {
     "data": {
      "text/plain": [
       "(2377, 127)"
      ]
     },
     "execution_count": 163,
     "metadata": {},
     "output_type": "execute_result"
    }
   ],
   "source": [
    "# Dependencies and dataload\n",
    "# Link to associated webkit\n",
    "# http://scikit-learn.org/stable/modules/feature_selection.html#l1-feature-selection\n",
    "# Module 1.13.4.1\n",
    "# Regularized Regression Model called GLMET \n",
    "# The elements of statistical learning \n",
    "# Good for sparse data and correlated variables \n",
    "\n",
    "\n",
    "import pandas as pd\n",
    "import numpy as np\n",
    "from numpy import genfromtxt\n",
    "from sklearn.svm import SVC\n",
    "from sklearn.svm import LinearSVC\n",
    "from sklearn.linear_model import Lasso\n",
    "from sklearn.linear_model import LogisticRegression\n",
    "from sklearn.feature_selection import SelectFromModel\n",
    "\n",
    "\n",
    "my_data = pd.read_csv('/Users/stevensun/Prometheus/0_data/prometheus.csv')\n",
    "my_data.shape"
   ]
  },
  {
   "cell_type": "code",
   "execution_count": 164,
   "metadata": {
    "collapsed": false
   },
   "outputs": [
    {
     "data": {
      "text/plain": [
       "(690, 127)"
      ]
     },
     "execution_count": 164,
     "metadata": {},
     "output_type": "execute_result"
    }
   ],
   "source": [
    "#drop incomplete rows\n",
    "\n",
    "my_data = my_data.dropna()\n",
    "my_data.shape"
   ]
  },
  {
   "cell_type": "code",
   "execution_count": 165,
   "metadata": {
    "collapsed": false
   },
   "outputs": [],
   "source": [
    "# vectorize data\n",
    "\n",
    "X = my_data.ix[:,0:125]\n",
    "y = my_data.ix[:,126]\n",
    "X_headers = X.columns"
   ]
  },
  {
   "cell_type": "code",
   "execution_count": 166,
   "metadata": {
    "collapsed": false
   },
   "outputs": [],
   "source": [
    "# alpha refers to constant multiplied to L1 term: alpha = 0 is equivalent to OLS\n",
    "# The higher the alpha, the less features selected\n",
    "\n",
    "clf = Lasso(alpha = 0.05)\n",
    "X_new = clf.fit(X,y)\n",
    "headers = np.array(X.columns)\n",
    "features = pd.DataFrame(X_new.coef_).transpose()\n",
    "features.columns = headers\n"
   ]
  },
  {
   "cell_type": "code",
   "execution_count": 167,
   "metadata": {
    "collapsed": false
   },
   "outputs": [
    {
     "data": {
      "text/html": [
       "<div>\n",
       "<table border=\"1\" class=\"dataframe\">\n",
       "  <thead>\n",
       "    <tr style=\"text-align: right;\">\n",
       "      <th></th>\n",
       "      <th>Values</th>\n",
       "    </tr>\n",
       "  </thead>\n",
       "  <tbody>\n",
       "    <tr>\n",
       "      <th>RC_WHT</th>\n",
       "      <td>-0.830009</td>\n",
       "    </tr>\n",
       "    <tr>\n",
       "      <th>RESECTION_GAPBALANCE</th>\n",
       "      <td>-0.376095</td>\n",
       "    </tr>\n",
       "    <tr>\n",
       "      <th>DEVIMP_CRRP</th>\n",
       "      <td>-0.204194</td>\n",
       "    </tr>\n",
       "    <tr>\n",
       "      <th>GM_OTHER_YN</th>\n",
       "      <td>-0.153699</td>\n",
       "    </tr>\n",
       "    <tr>\n",
       "      <th>PTRT_INTRA_INJECT_YN</th>\n",
       "      <td>-0.095299</td>\n",
       "    </tr>\n",
       "    <tr>\n",
       "      <th>Femoral Component Flexion</th>\n",
       "      <td>-0.007878</td>\n",
       "    </tr>\n",
       "    <tr>\n",
       "      <th>Posterior Tibial Slope</th>\n",
       "      <td>0.039796</td>\n",
       "    </tr>\n",
       "    <tr>\n",
       "      <th>ANTI_CEMENT</th>\n",
       "      <td>0.051522</td>\n",
       "    </tr>\n",
       "    <tr>\n",
       "      <th>Proximal Tibial Angle</th>\n",
       "      <td>0.091159</td>\n",
       "    </tr>\n",
       "    <tr>\n",
       "      <th>GM_BACK_PAIN_YN</th>\n",
       "      <td>0.148185</td>\n",
       "    </tr>\n",
       "    <tr>\n",
       "      <th>PTRT_NONE_YN</th>\n",
       "      <td>0.205987</td>\n",
       "    </tr>\n",
       "    <tr>\n",
       "      <th>PAT_MANAGE_EVERTED</th>\n",
       "      <td>0.569926</td>\n",
       "    </tr>\n",
       "  </tbody>\n",
       "</table>\n",
       "</div>"
      ],
      "text/plain": [
       "                             Values\n",
       "RC_WHT                    -0.830009\n",
       "RESECTION_GAPBALANCE      -0.376095\n",
       "DEVIMP_CRRP               -0.204194\n",
       "GM_OTHER_YN               -0.153699\n",
       "PTRT_INTRA_INJECT_YN      -0.095299\n",
       "Femoral Component Flexion -0.007878\n",
       "Posterior Tibial Slope     0.039796\n",
       "ANTI_CEMENT                0.051522\n",
       "Proximal Tibial Angle      0.091159\n",
       "GM_BACK_PAIN_YN            0.148185\n",
       "PTRT_NONE_YN               0.205987\n",
       "PAT_MANAGE_EVERTED         0.569926"
      ]
     },
     "execution_count": 167,
     "metadata": {},
     "output_type": "execute_result"
    }
   ],
   "source": [
    "# Feature visualization\n",
    "# Drow row values = 0\n",
    "# Order from least to most \n",
    "\n",
    "viz = features.transpose()\n",
    "viz.columns = ['Values']\n",
    "viz = viz[(viz.T != 0).any()]\n",
    "viz.sort_values(by = 'Values', ascending = True)"
   ]
  },
  {
   "cell_type": "code",
   "execution_count": null,
   "metadata": {
    "collapsed": true
   },
   "outputs": [],
   "source": []
  }
 ],
 "metadata": {
  "anaconda-cloud": {},
  "kernelspec": {
   "display_name": "Python [conda root]",
   "language": "python",
   "name": "conda-root-py"
  },
  "language_info": {
   "codemirror_mode": {
    "name": "ipython",
    "version": 3
   },
   "file_extension": ".py",
   "mimetype": "text/x-python",
   "name": "python",
   "nbconvert_exporter": "python",
   "pygments_lexer": "ipython3",
   "version": "3.5.2"
  }
 },
 "nbformat": 4,
 "nbformat_minor": 1
}
