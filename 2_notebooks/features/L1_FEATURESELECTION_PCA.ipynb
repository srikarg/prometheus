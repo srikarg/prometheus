{
 "cells": [
  {
   "cell_type": "code",
   "execution_count": 1,
   "metadata": {
    "collapsed": false
   },
   "outputs": [
    {
     "data": {
      "text/plain": [
       "(2377, 127)"
      ]
     },
     "execution_count": 1,
     "metadata": {},
     "output_type": "execute_result"
    }
   ],
   "source": [
    "# Dependencies and dataload\n",
    "# Link to associated webkit\n",
    "# http://scikit-learn.org/stable/modules/feature_selection.html#l1-feature-selection\n",
    "# Module 1.13.4.1\n",
    "\n",
    "import pandas as pd\n",
    "import numpy as np\n",
    "import matplotlib.pyplot as plt\n",
    "from numpy import genfromtxt\n",
    "from sklearn.svm import SVC\n",
    "from sklearn.svm import LinearSVC\n",
    "from sklearn.decomposition import PCA\n",
    "# PCA optimized for mixed numerical and categorical variables\n",
    "from sklearn.feature_selection import SelectKBest\n",
    "from sklearn.feature_selection import SelectFromModel\n",
    "\n",
    "\n",
    "my_data = pd.read_csv('/Users/stevensun/Prometheus/0_data/prometheus.csv')\n",
    "my_data.shape"
   ]
  },
  {
   "cell_type": "code",
   "execution_count": 2,
   "metadata": {
    "collapsed": false
   },
   "outputs": [
    {
     "data": {
      "text/plain": [
       "(690, 127)"
      ]
     },
     "execution_count": 2,
     "metadata": {},
     "output_type": "execute_result"
    }
   ],
   "source": [
    "#drop incomplete rows\n",
    "\n",
    "my_data = my_data.dropna()\n",
    "my_data.shape"
   ]
  },
  {
   "cell_type": "code",
   "execution_count": 3,
   "metadata": {
    "collapsed": false
   },
   "outputs": [],
   "source": [
    "# vectorize data\n",
    "\n",
    "X = my_data.ix[:,0:125]\n",
    "y = my_data.ix[:,126]"
   ]
  },
  {
   "cell_type": "code",
   "execution_count": 4,
   "metadata": {
    "collapsed": false
   },
   "outputs": [],
   "source": [
    "# Set up PCAs and K Best\n",
    "# 11 and 41 components determined from LinSVC and Extra Trees\n",
    "\n",
    "pca11 = PCA(n_components=11)\n",
    "pca41 = PCA(n_components=41)"
   ]
  },
  {
   "cell_type": "code",
   "execution_count": 5,
   "metadata": {
    "collapsed": false
   },
   "outputs": [
    {
     "data": {
      "text/plain": [
       "array([[  1.02437556e+01,  -5.81290300e-01,  -2.34809456e+00, ...,\n",
       "         -2.13475275e-03,  -5.16710950e-01,  -1.03123273e-01],\n",
       "       [  1.04830126e+01,   1.63837998e+00,  -3.52299175e+00, ...,\n",
       "          9.76293794e-02,  -1.93196679e-02,  -8.23613520e-02],\n",
       "       [  1.03154483e+01,  -9.73527744e-01,  -4.22371369e+00, ...,\n",
       "         -2.97912958e-01,  -2.28122454e-01,  -3.32655122e-01],\n",
       "       ..., \n",
       "       [  8.88559768e+00,  -1.87387855e+00,   3.60486323e+00, ...,\n",
       "          4.34650228e-01,   2.01743305e-01,  -1.55199259e-02],\n",
       "       [  1.23372955e+01,  -5.60638035e-01,  -2.65412434e+00, ...,\n",
       "          4.58415383e-01,   1.47356270e-01,   3.80378158e-02],\n",
       "       [  8.46195602e+00,  -3.40317219e+00,  -3.58705075e-01, ...,\n",
       "         -1.14040027e-01,  -4.45255769e-01,  -3.50604780e-01]])"
      ]
     },
     "execution_count": 5,
     "metadata": {},
     "output_type": "execute_result"
    }
   ],
   "source": [
    "# Run PCA11,PCA41\n",
    "\n",
    "pca11.fit_transform(X)\n",
    "pca41.fit_transform(X)"
   ]
  },
  {
   "cell_type": "code",
   "execution_count": 6,
   "metadata": {
    "collapsed": false
   },
   "outputs": [
    {
     "data": {
      "text/plain": [
       "0.96139595530481126"
      ]
     },
     "execution_count": 6,
     "metadata": {},
     "output_type": "execute_result"
    }
   ],
   "source": [
    "# PCA11 Variance Evaluation\n",
    "\n",
    "pd.DataFrame(pca11.components_, columns=X.columns).transpose()\n",
    "np.sum(pca11.explained_variance_ratio_)"
   ]
  },
  {
   "cell_type": "code",
   "execution_count": 7,
   "metadata": {
    "collapsed": false
   },
   "outputs": [
    {
     "data": {
      "text/plain": [
       "Proximal Tibial Angle     0.619323\n",
       "GM_GENIT_DIS_YN           0.617519\n",
       "GM_CANCER_YN              0.601156\n",
       "GM_BACK_PAIN_YN           0.535905\n",
       "GM_DEPRESS_YN             0.509274\n",
       "GM_HYPCHOL_YN             0.492022\n",
       "GM_DIABETES_YN            0.490976\n",
       "PTRT_INTRA_INJECT_YN      0.484295\n",
       "ST_DEEP_MCL_YN            0.481986\n",
       "PTRT_ARTHRO_YN            0.430310\n",
       "GM_CARDIO_YN              0.427223\n",
       "GM_HEENT_YN               0.400713\n",
       "ST_POST_MED_CAP_YN        0.400568\n",
       "GM_RENAL_DIS_YN           0.388163\n",
       "ST_POST_LAT_CAP_YN        0.384366\n",
       "PTRT_MENIS_YN             0.367121\n",
       "GM_GASTRO_DIS_YN          0.361970\n",
       "SRG_APPROACH_MIDVASTUS    0.356168\n",
       "PAT_MANAGE_EVERTED        0.351630\n",
       "ANTI_CEMENT               0.344051\n",
       "GM_OTHER_YN               0.341073\n",
       "DEVIMP_PSFB               0.330203\n",
       "AP Alignment Angle        0.322634\n",
       "GM_GOUT_YN                0.320534\n",
       "GM_RESP_DIS_YN            0.320437\n",
       "GM_HYPTN_YN               0.310954\n",
       "GM_NONE_YN                0.310080\n",
       "SEX                       0.301542\n",
       "GM_OSTEO_YN               0.298378\n",
       "RESECTION_GAPBALANCE      0.295118\n",
       "DEVIMP_CRFB               0.292916\n",
       "PTRT_NONE_YN              0.290182\n",
       "ST_SYN_YN                 0.282940\n",
       "GM_HEMA_DIS_YN            0.280553\n",
       "preop PKIP modify         0.278240\n",
       "preop KS_PAT_SAT1         0.277341\n",
       "GM_END_METABLIC_YN        0.275926\n",
       "PAT_RESURFACE             0.268084\n",
       "Unnamed: 90               0.268084\n",
       "SRG_APPROACH_TRIVECTOR    0.262520\n",
       "Distal Femoral Angle      0.253958\n",
       "dtype: float64"
      ]
     },
     "execution_count": 7,
     "metadata": {},
     "output_type": "execute_result"
    }
   ],
   "source": [
    "# PCA41 Variance Evaluation, use nlargest to evaluate \n",
    "\n",
    "pd.DataFrame(pca41.components_, columns=X.columns).max().nlargest(41)"
   ]
  },
  {
   "cell_type": "code",
   "execution_count": 8,
   "metadata": {
    "collapsed": false
   },
   "outputs": [
    {
     "ename": "NameError",
     "evalue": "name 'PCA_eval' is not defined",
     "output_type": "error",
     "traceback": [
      "\u001b[0;31m---------------------------------------------------------------------------\u001b[0m",
      "\u001b[0;31mNameError\u001b[0m                                 Traceback (most recent call last)",
      "\u001b[0;32m<ipython-input-8-5ee1a9ef6bf2>\u001b[0m in \u001b[0;36m<module>\u001b[0;34m()\u001b[0m\n\u001b[1;32m      1\u001b[0m \u001b[0;32mfor\u001b[0m \u001b[0mx\u001b[0m \u001b[0;32min\u001b[0m \u001b[0mrange\u001b[0m\u001b[0;34m(\u001b[0m\u001b[0;36m1\u001b[0m\u001b[0;34m,\u001b[0m\u001b[0;36m109\u001b[0m\u001b[0;34m)\u001b[0m\u001b[0;34m:\u001b[0m\u001b[0;34m\u001b[0m\u001b[0m\n\u001b[0;32m----> 2\u001b[0;31m     \u001b[0mPCA_eval\u001b[0m\u001b[0;34m.\u001b[0m\u001b[0mappend\u001b[0m\u001b[0;34m(\u001b[0m\u001b[0;34m[\u001b[0m\u001b[0mnp\u001b[0m\u001b[0;34m.\u001b[0m\u001b[0msum\u001b[0m\u001b[0;34m(\u001b[0m\u001b[0mdoPCA\u001b[0m\u001b[0;34m(\u001b[0m\u001b[0mtest\u001b[0m\u001b[0;34m,\u001b[0m\u001b[0mx\u001b[0m\u001b[0;34m)\u001b[0m\u001b[0;34m.\u001b[0m\u001b[0mexplained_variance_ratio_\u001b[0m\u001b[0;34m)\u001b[0m\u001b[0;34m,\u001b[0m\u001b[0mdoPCA\u001b[0m\u001b[0;34m(\u001b[0m\u001b[0mtest\u001b[0m\u001b[0;34m,\u001b[0m\u001b[0mx\u001b[0m\u001b[0;34m)\u001b[0m\u001b[0;34m.\u001b[0m\u001b[0mnoise_variance_\u001b[0m\u001b[0;34m,\u001b[0m\u001b[0mdoPCA\u001b[0m\u001b[0;34m(\u001b[0m\u001b[0mtest\u001b[0m\u001b[0;34m,\u001b[0m\u001b[0mx\u001b[0m\u001b[0;34m)\u001b[0m\u001b[0;34m.\u001b[0m\u001b[0mexplained_variance_ratio_\u001b[0m\u001b[0;34m]\u001b[0m\u001b[0;34m)\u001b[0m\u001b[0;34m\u001b[0m\u001b[0m\n\u001b[0m\u001b[1;32m      3\u001b[0m \u001b[0;34m\u001b[0m\u001b[0m\n\u001b[1;32m      4\u001b[0m \u001b[0mPCA_eval\u001b[0m\u001b[0;34m\u001b[0m\u001b[0m\n",
      "\u001b[0;31mNameError\u001b[0m: name 'PCA_eval' is not defined"
     ]
    }
   ],
   "source": [
    "for x in range(1,109):\n",
    "    PCA_eval.append([np.sum(doPCA(test,x).explained_variance_ratio_),doPCA(test,x).noise_variance_,doPCA(test,x).explained_variance_ratio_])\n",
    "\n",
    "PCA_eval"
   ]
  },
  {
   "cell_type": "code",
   "execution_count": 9,
   "metadata": {
    "collapsed": false
   },
   "outputs": [],
   "source": [
    "def doPCA(df, components):\n",
    "    pca = PCA(n_components= components, svd_solver='full')\n",
    "    pca.fit(df)\n",
    "    return pca"
   ]
  },
  {
   "cell_type": "code",
   "execution_count": 169,
   "metadata": {
    "collapsed": true
   },
   "outputs": [],
   "source": [
    "def rotateColumns(df):\n",
    "    column = df[df.columns[len(df.columns)-1]]\n",
    "    column_label = df.columns[len(df.columns)-1]\n",
    "    df.drop(labels=column_label, axis=1,inplace = True)\n",
    "    df.insert(0,column_label,column)\n",
    "    "
   ]
  }
 ],
 "metadata": {
  "anaconda-cloud": {},
  "kernelspec": {
   "display_name": "Python [conda root]",
   "language": "python",
   "name": "conda-root-py"
  },
  "language_info": {
   "codemirror_mode": {
    "name": "ipython",
    "version": 3
   },
   "file_extension": ".py",
   "mimetype": "text/x-python",
   "name": "python",
   "nbconvert_exporter": "python",
   "pygments_lexer": "ipython3",
   "version": "3.5.2"
  }
 },
 "nbformat": 4,
 "nbformat_minor": 1
}
