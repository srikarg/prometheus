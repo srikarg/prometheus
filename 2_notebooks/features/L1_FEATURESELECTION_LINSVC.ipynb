{
 "cells": [
  {
   "cell_type": "code",
   "execution_count": 1,
   "metadata": {
    "collapsed": false,
    "scrolled": true
   },
   "outputs": [
    {
     "data": {
      "text/plain": [
       "(2377, 127)"
      ]
     },
     "execution_count": 1,
     "metadata": {},
     "output_type": "execute_result"
    }
   ],
   "source": [
    "# Dependencies and dataload\n",
    "# Link to associated webkit\n",
    "# http://scikit-learn.org/stable/modules/feature_selection.html#l1-feature-selection\n",
    "# Module 1.13.4.1\n",
    "# Regularized Regression Model called GLMET \n",
    "# The elements of statistical learning \n",
    "# Good for sparse data and correlated variables \n",
    "\n",
    "\n",
    "import pandas as pd\n",
    "from numpy import genfromtxt\n",
    "from sklearn.svm import SVC\n",
    "from sklearn.svm import LinearSVC\n",
    "from sklearn.feature_selection import SelectFromModel\n",
    "\n",
    "\n",
    "my_data = pd.read_csv('/Users/stevensun/Prometheus/0_data/prometheus.csv')\n",
    "my_data.shape"
   ]
  },
  {
   "cell_type": "code",
   "execution_count": 2,
   "metadata": {
    "collapsed": false
   },
   "outputs": [
    {
     "data": {
      "text/plain": [
       "(690, 127)"
      ]
     },
     "execution_count": 2,
     "metadata": {},
     "output_type": "execute_result"
    }
   ],
   "source": [
    "#drop incomplete rows\n",
    "\n",
    "my_data = my_data.dropna()\n",
    "my_data.shape"
   ]
  },
  {
   "cell_type": "code",
   "execution_count": 3,
   "metadata": {
    "collapsed": false
   },
   "outputs": [],
   "source": [
    "# vectorize data\n",
    "\n",
    "X = my_data.ix[:,0:125]\n",
    "y = my_data.ix[:,126]"
   ]
  },
  {
   "cell_type": "code",
   "execution_count": 4,
   "metadata": {
    "collapsed": false
   },
   "outputs": [
    {
     "data": {
      "text/plain": [
       "(690, 32)"
      ]
     },
     "execution_count": 4,
     "metadata": {},
     "output_type": "execute_result"
    }
   ],
   "source": [
    "# C controls sparcity: The smaller C, the fewer features selcted\n",
    "#\n",
    "lsvc = LinearSVC(C=0.05, penalty=\"l1\", dual=False).fit(X,y)\n",
    "model = SelectFromModel(lsvc, prefit=True)\n",
    "X_new = model.transform(X)\n",
    "X_new.shape"
   ]
  },
  {
   "cell_type": "code",
   "execution_count": 5,
   "metadata": {
    "collapsed": false
   },
   "outputs": [
    {
     "data": {
      "text/plain": [
       "Index(['SEX', 'RC_WHT', 'RC_HISPLAT', 'PTRT_NONE_YN', 'PTRT_ARTHRO_YN',\n",
       "       'PTRT_INTRA_INJECT_YN', 'GM_BACK_PAIN_YN', 'GM_END_METABLIC_YN',\n",
       "       'GM_GENIT_DIS_YN', 'GM_HEENT_YN', 'GM_RESP_DIS_YN', 'GM_OTHER_YN',\n",
       "       'AP Alignment Angle', 'Distal Femoral Angle', 'Proximal Tibial Angle',\n",
       "       'Femoral Component Flexion', 'Posterior Tibial Slope', 'DEVIMP_PSRP',\n",
       "       'DEVIMP_CRFB', 'DEVIMP_CRRP', 'SRG_APPROACH_MEDIAL_PARAPATELLAR',\n",
       "       'SRG_APPROACH_TRIVECTOR', 'PAT_MANAGE_EVERTED', 'PAT_MANAGE_SUBLUXED',\n",
       "       'RESECTION_GAPBALANCE', 'ANTI_CEMENT', 'ST_NONE_YN', 'ST_SYN_YN',\n",
       "       'ST_DEEP_MCL_YN', 'ST_POST_MED_CAP_YN', 'preop PKIP modify',\n",
       "       'preop KS_PAIN_STAIRS'],\n",
       "      dtype='object')"
      ]
     },
     "execution_count": 5,
     "metadata": {},
     "output_type": "execute_result"
    }
   ],
   "source": [
    "# Selected Features\n",
    "\n",
    "features_selected = X.ix[:,model.get_support()]\n",
    "pd.DataFrame(features_selected).columns"
   ]
  },
  {
   "cell_type": "code",
   "execution_count": 6,
   "metadata": {
    "collapsed": false
   },
   "outputs": [
    {
     "data": {
      "text/plain": [
       "SEX                                 0.143515\n",
       "RC_WHT                              0.179088\n",
       "RC_HISPLAT                          0.030903\n",
       "PTRT_NONE_YN                        0.035813\n",
       "PTRT_ARTHRO_YN                      0.000000\n",
       "PTRT_INTRA_INJECT_YN                0.201918\n",
       "GM_BACK_PAIN_YN                     0.042756\n",
       "GM_END_METABLIC_YN                  0.169647\n",
       "GM_GENIT_DIS_YN                     0.082588\n",
       "GM_HEENT_YN                         0.036072\n",
       "GM_RESP_DIS_YN                      0.035664\n",
       "GM_OTHER_YN                         0.094574\n",
       "AP Alignment Angle                  0.009793\n",
       "Distal Femoral Angle                0.002201\n",
       "Proximal Tibial Angle               0.011031\n",
       "Femoral Component Flexion           0.002225\n",
       "Posterior Tibial Slope              0.006258\n",
       "DEVIMP_PSRP                         0.041094\n",
       "DEVIMP_CRFB                         0.259391\n",
       "DEVIMP_CRRP                         0.154067\n",
       "SRG_APPROACH_MEDIAL_PARAPATELLAR    0.000000\n",
       "SRG_APPROACH_TRIVECTOR              0.556966\n",
       "PAT_MANAGE_EVERTED                  0.000000\n",
       "PAT_MANAGE_SUBLUXED                 0.361314\n",
       "RESECTION_GAPBALANCE                0.085777\n",
       "ANTI_CEMENT                         0.000000\n",
       "ST_NONE_YN                          0.000000\n",
       "ST_SYN_YN                           0.206486\n",
       "ST_DEEP_MCL_YN                      0.056599\n",
       "ST_POST_MED_CAP_YN                  0.041409\n",
       "preop PKIP modify                   0.068675\n",
       "preop KS_PAIN_STAIRS                0.000000\n",
       "dtype: float64"
      ]
     },
     "execution_count": 6,
     "metadata": {},
     "output_type": "execute_result"
    }
   ],
   "source": [
    "# Adjust to make human readable\n",
    "coefficients = pd.DataFrame(lsvc.coef_)\n",
    "coefficients.columns = X.columns\n",
    "features_selected = coefficients.loc[:,(coefficients != 0).any(axis=0)]\n",
    "features_selected.max()"
   ]
  },
  {
   "cell_type": "code",
   "execution_count": null,
   "metadata": {
    "collapsed": true
   },
   "outputs": [],
   "source": []
  },
  {
   "cell_type": "code",
   "execution_count": null,
   "metadata": {
    "collapsed": true
   },
   "outputs": [],
   "source": []
  },
  {
   "cell_type": "code",
   "execution_count": null,
   "metadata": {
    "collapsed": true
   },
   "outputs": [],
   "source": []
  }
 ],
 "metadata": {
  "anaconda-cloud": {},
  "kernelspec": {
   "display_name": "Python [conda root]",
   "language": "python",
   "name": "conda-root-py"
  },
  "language_info": {
   "codemirror_mode": {
    "name": "ipython",
    "version": 3
   },
   "file_extension": ".py",
   "mimetype": "text/x-python",
   "name": "python",
   "nbconvert_exporter": "python",
   "pygments_lexer": "ipython3",
   "version": "3.5.2"
  }
 },
 "nbformat": 4,
 "nbformat_minor": 1
}
