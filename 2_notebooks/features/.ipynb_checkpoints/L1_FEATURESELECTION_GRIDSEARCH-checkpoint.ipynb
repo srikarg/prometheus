{
 "cells": [
  {
   "cell_type": "code",
   "execution_count": 102,
   "metadata": {
    "collapsed": false
   },
   "outputs": [
    {
     "data": {
      "text/plain": [
       "(2376, 127)"
      ]
     },
     "execution_count": 102,
     "metadata": {},
     "output_type": "execute_result"
    }
   ],
   "source": [
    "# Dependencies and dataload\n",
    "# Link to associated webkit\n",
    "# http://scikit-learn.org/stable/modules/feature_selection.html#l1-feature-selection\n",
    "# Module 1.13.4.1\n",
    "\n",
    "import pandas as pd\n",
    "import numpy as np\n",
    "import matplotlib.pyplot as plt\n",
    "from numpy import genfromtxt\n",
    "from sklearn.svm import SVC\n",
    "from sklearn.svm import LinearSVC\n",
    "from sklearn.decomposition import PCA\n",
    "from sklearn.feature_selection import SelectKBest\n",
    "from sklearn.feature_selection import SelectFromModel\n",
    "\n",
    "\n",
    "my_data = pd.read_csv('/Users/stevensun/Prometheus/0_data/prometheus.csv')\n",
    "my_data.shape"
   ]
  },
  {
   "cell_type": "code",
   "execution_count": 21,
   "metadata": {
    "collapsed": false
   },
   "outputs": [
    {
     "data": {
      "text/plain": [
       "(690, 127)"
      ]
     },
     "execution_count": 21,
     "metadata": {},
     "output_type": "execute_result"
    }
   ],
   "source": [
    "#drop incomplete rows\n",
    "\n",
    "my_data = my_data.dropna()\n",
    "my_data.shape"
   ]
  },
  {
   "cell_type": "code",
   "execution_count": 22,
   "metadata": {
    "collapsed": false
   },
   "outputs": [],
   "source": [
    "# vectorize data\n",
    "\n",
    "X = my_data.ix[:,0:109]\n",
    "y = my_data.ix[:,126]"
   ]
  },
  {
   "cell_type": "code",
   "execution_count": 57,
   "metadata": {
    "collapsed": false
   },
   "outputs": [],
   "source": [
    "# Set up PCAs and K Best\n",
    "# 11 and 41 components determined from LinSVC and Extra Trees\n",
    "\n",
    "pca11 = PCA(n_components=11)\n",
    "pca41 = PCA(n_components=41)"
   ]
  },
  {
   "cell_type": "code",
   "execution_count": 83,
   "metadata": {
    "collapsed": false
   },
   "outputs": [
    {
     "ename": "AttributeError",
     "evalue": "'PCA' object has no attribute 'shape'",
     "output_type": "error",
     "traceback": [
      "\u001b[0;31m----------------------\u001b[0m",
      "\u001b[0;31mAttributeError\u001b[0mTraceback (most recent call last)",
      "\u001b[0;32m<ipython-input-83-cb8881ae441b>\u001b[0m in \u001b[0;36m<module>\u001b[0;34m()\u001b[0m\n\u001b[1;32m      4\u001b[0m \u001b[0mpca41\u001b[0m\u001b[0;34m.\u001b[0m\u001b[0mfit_transform\u001b[0m\u001b[0;34m(\u001b[0m\u001b[0mX\u001b[0m\u001b[0;34m)\u001b[0m\u001b[0;34m\u001b[0m\u001b[0m\n\u001b[1;32m      5\u001b[0m \u001b[0;34m\u001b[0m\u001b[0m\n\u001b[0;32m----> 6\u001b[0;31m \u001b[0mpca11\u001b[0m\u001b[0;34m.\u001b[0m\u001b[0mshape\u001b[0m\u001b[0;34m(\u001b[0m\u001b[0;34m)\u001b[0m\u001b[0;34m\u001b[0m\u001b[0m\n\u001b[0m",
      "\u001b[0;31mAttributeError\u001b[0m: 'PCA' object has no attribute 'shape'"
     ]
    }
   ],
   "source": [
    "# Run PCA11,PCA41\n",
    "\n",
    "pca11.fit_transform(X)\n",
    "pca41.fit_transform(X)\n",
    "\n"
   ]
  },
  {
   "cell_type": "code",
   "execution_count": 74,
   "metadata": {
    "collapsed": false
   },
   "outputs": [
    {
     "data": {
      "text/plain": [
       "0.96588465361790787"
      ]
     },
     "execution_count": 74,
     "metadata": {},
     "output_type": "execute_result"
    }
   ],
   "source": [
    "# PCA11 Variance Evaluation\n",
    "\n",
    "pd.DataFrame(pca11.components_, columns=X.columns).transpose()\n",
    "np.sum(pca11.explained_variance_ratio_)"
   ]
  },
  {
   "cell_type": "code",
   "execution_count": 213,
   "metadata": {
    "collapsed": false
   },
   "outputs": [
    {
     "data": {
      "text/plain": [
       "GM_HEP_DIS_YN                0.729018\n",
       "GM_ALCH_DRUG_YN              0.649657\n",
       "GM_VASCULAR_YN               0.619510\n",
       "GM_RESP_DIS_YN               0.588296\n",
       "GM_NONE_YN                   0.570964\n",
       "GM_DVT_YN                    0.561434\n",
       "GM_END_METABLIC_YN           0.557900\n",
       "GM_NEURO_DIS_YN              0.536371\n",
       "GM_AUTOIMM_YN                0.527868\n",
       "GM_HYPTN_YN                  0.521823\n",
       "GM_H_SMOKER_YN               0.510230\n",
       "ST_LCL_YN                    0.495938\n",
       "GM_GENIT_DIS_YN              0.489761\n",
       "PAT_LAT_RELEASE_YN           0.480418\n",
       "PTRT_TIB_TUBER_YN            0.467061\n",
       "GM_CANCER_YN                 0.457095\n",
       "PTRT_ORIF_YN                 0.436091\n",
       "GM_FIBRO_POLY_YN             0.435360\n",
       "RTHPN_STD                    0.420434\n",
       "INCISION_MIDLINE             0.405874\n",
       "LTHPN_STD                    0.405474\n",
       "ST_NONE_YN                   0.403491\n",
       "PTRT_ARTHRO_YN               0.396953\n",
       "GM_DEPRESS_YN                0.374932\n",
       "ST_POST_LAT_CAP_YN           0.365322\n",
       "PRIDX3_PTA                   0.361358\n",
       "GM_DIABETES_YN               0.353469\n",
       "INCISION_LATERAL             0.353038\n",
       "COM_ASSIST_YN                0.346390\n",
       "GM_HEENT_YN                  0.332670\n",
       "Proximal Tibial Angle        0.330016\n",
       "SRG_APPROACH_TRIVECTOR       0.294950\n",
       "Posterior Tibial Slope       0.292718\n",
       "DEVIMP_CRRP                  0.285194\n",
       "GM_STENOSIS_YN               0.280059\n",
       "SRG_APPROACH_MIDVASTUS       0.276489\n",
       "TRUMATCH_USED_YN             0.276489\n",
       "Femoral Component Flexion    0.269069\n",
       "Unnamed: 90                  0.267679\n",
       "GM_PNERV_DIS_YN              0.260814\n",
       "INCISION_MEDIAL              0.253044\n",
       "dtype: float64"
      ]
     },
     "execution_count": 213,
     "metadata": {},
     "output_type": "execute_result"
    }
   ],
   "source": [
    "# PCA41 Variance Evaluation, use nlargest to evaluate \n",
    "\n",
    "pd.DataFrame(pca41.components_, columns=X.columns).max().nlargest(41)"
   ]
  },
  {
   "cell_type": "code",
   "execution_count": 204,
   "metadata": {
    "collapsed": false
   },
   "outputs": [],
   "source": [
    "for x in range(1,109):\n",
    "    PCA_eval.append([np.sum(doPCA(test,x).explained_variance_ratio_),doPCA(test,x).noise_variance_,doPCA(test,x).explained_variance_ratio_])\n",
    "\n",
    "PCA_eval"
   ]
  },
  {
   "cell_type": "code",
   "execution_count": 191,
   "metadata": {
    "collapsed": false
   },
   "outputs": [],
   "source": [
    "def doPCA(df, components):\n",
    "    pca = PCA(n_components= components, svd_solver='full')\n",
    "    pca.fit(df)\n",
    "    return pca"
   ]
  },
  {
   "cell_type": "code",
   "execution_count": 169,
   "metadata": {
    "collapsed": true
   },
   "outputs": [],
   "source": [
    "def rotateColumns(df):\n",
    "    column = df[df.columns[len(df.columns)-1]]\n",
    "    column_label = df.columns[len(df.columns)-1]\n",
    "    df.drop(labels=column_label, axis=1,inplace = True)\n",
    "    df.insert(0,column_label,column)\n",
    "    "
   ]
  }
 ],
 "metadata": {
  "anaconda-cloud": {},
  "kernelspec": {
   "display_name": "Python [conda root]",
   "language": "python",
   "name": "conda-root-py"
  },
  "language_info": {
   "codemirror_mode": {
    "name": "ipython",
    "version": 3
   },
   "file_extension": ".py",
   "mimetype": "text/x-python",
   "name": "python",
   "nbconvert_exporter": "python",
   "pygments_lexer": "ipython3",
   "version": "3.5.2"
  }
 },
 "nbformat": 4,
 "nbformat_minor": 1
}
