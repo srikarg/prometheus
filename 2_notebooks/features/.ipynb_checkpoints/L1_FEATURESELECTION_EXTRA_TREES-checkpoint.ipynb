{
 "cells": [
  {
   "cell_type": "code",
   "execution_count": 3,
   "metadata": {
    "collapsed": false
   },
   "outputs": [
    {
     "data": {
      "text/plain": [
       "(2376, 127)"
      ]
     },
     "execution_count": 3,
     "metadata": {},
     "output_type": "execute_result"
    }
   ],
   "source": [
    "# Dependencies and dataload\n",
    "# Link to associated webkit\n",
    "# http://scikit-learn.org/stable/modules/feature_selection.html#l1-feature-selection\n",
    "# Module 1.13.4.3\n",
    "\n",
    "import pandas as pd\n",
    "from numpy import genfromtxt\n",
    "from sklearn.ensemble import ExtraTreesClassifier\n",
    "from sklearn.feature_selection import SelectFromModel\n",
    "\n",
    "my_data = pd.read_csv('/Users/stevensun/Prometheus/0_data/prometheus.csv')\n",
    "my_data.shape"
   ]
  },
  {
   "cell_type": "code",
   "execution_count": 4,
   "metadata": {
    "collapsed": false
   },
   "outputs": [
    {
     "data": {
      "text/plain": [
       "(690, 127)"
      ]
     },
     "execution_count": 4,
     "metadata": {},
     "output_type": "execute_result"
    }
   ],
   "source": [
    "#drop incomplete rows\n",
    "\n",
    "my_data = my_data.dropna()\n",
    "my_data.shape"
   ]
  },
  {
   "cell_type": "code",
   "execution_count": 60,
   "metadata": {
    "collapsed": false
   },
   "outputs": [],
   "source": [
    "# vectorize data\n",
    "\n",
    "X = my_data.ix[:,0:125]\n",
    "y = my_data.ix[:,126]"
   ]
  },
  {
   "cell_type": "code",
   "execution_count": 62,
   "metadata": {
    "collapsed": false
   },
   "outputs": [
    {
     "data": {
      "text/plain": [
       "array([  2.28110460e-02,   3.60449316e-02,   3.65796551e-02,\n",
       "         3.55187768e-02,   2.14514237e-02,   4.40225660e-03,\n",
       "         0.00000000e+00,   7.00847780e-04,   1.78477675e-03,\n",
       "         4.24544646e-03,   3.27824883e-04,   0.00000000e+00,\n",
       "         6.94907909e-04,   6.03748579e-04,   1.62688300e-02,\n",
       "         1.21261389e-02,   1.54083444e-02,   0.00000000e+00,\n",
       "         1.41632027e-02,   1.40520156e-02,   1.11061223e-03,\n",
       "         4.89806142e-03,   8.40120199e-03,   1.88444270e-04,\n",
       "         2.05194871e-04,   2.16176809e-03,   8.97353665e-07,\n",
       "         0.00000000e+00,   1.01050502e-02,   0.00000000e+00,\n",
       "         1.26597229e-03,   1.19778745e-02,   5.00989100e-03,\n",
       "         1.54546378e-02,   9.52201985e-03,   2.78288406e-04,\n",
       "         1.06728700e-02,   4.80268831e-03,   1.14938442e-02,\n",
       "         2.63821978e-04,   1.54114942e-02,   1.02313415e-02,\n",
       "         3.61459030e-03,   1.28580308e-02,   3.03014518e-03,\n",
       "         2.36518812e-03,   5.80362041e-03,   1.96322257e-02,\n",
       "         1.51909406e-02,   1.11966611e-03,   3.90497673e-03,\n",
       "         6.30931247e-03,   1.77120334e-03,   4.01947618e-04,\n",
       "         4.13563116e-03,   1.32527052e-02,   7.46761405e-04,\n",
       "         4.05835619e-03,   2.75866210e-03,   1.97895619e-02,\n",
       "         3.72592896e-02,   3.02687101e-02,   3.47441003e-02,\n",
       "         3.87698700e-02,   3.25687779e-02,   4.60148395e-02,\n",
       "         8.33039217e-03,   7.07494038e-03,   2.06925303e-02,\n",
       "         2.65697865e-02,   3.64083560e-03,   1.47120798e-03,\n",
       "         0.00000000e+00,   1.09635203e-02,   2.73656478e-03,\n",
       "         1.35682918e-02,   1.75505565e-02,   3.03878836e-02,\n",
       "         3.95066755e-03,   1.67989981e-02,   5.90918010e-03,\n",
       "         3.55820236e-04,   1.81544231e-03,   0.00000000e+00,\n",
       "         0.00000000e+00,   0.00000000e+00,   1.70800235e-03,\n",
       "         6.34883672e-03,   0.00000000e+00,   0.00000000e+00,\n",
       "         7.95858865e-03,   1.82020621e-02,   2.51998471e-03,\n",
       "         1.24202227e-02,   1.84740682e-02,   1.78694109e-03,\n",
       "         2.14502105e-02,   1.72285098e-02,   6.73848247e-03,\n",
       "         1.73855036e-04,   1.92124946e-03,   1.51518444e-03,\n",
       "         1.00086605e-03,   2.73998458e-03,   4.90850128e-04,\n",
       "         4.49622163e-03,   0.00000000e+00,   0.00000000e+00,\n",
       "         0.00000000e+00])"
      ]
     },
     "execution_count": 62,
     "metadata": {},
     "output_type": "execute_result"
    }
   ],
   "source": [
    "# C controls sparcity: The smaller C, the fewer features selcted\n",
    "#\n",
    "clf = ExtraTreesClassifier()\n",
    "clf = clf.fit(X,y)\n",
    "feature_weights = clf.feature_importances_\n",
    "feature_weights\n"
   ]
  },
  {
   "cell_type": "code",
   "execution_count": 63,
   "metadata": {
    "collapsed": false
   },
   "outputs": [
    {
     "data": {
      "text/plain": [
       "(690, 41)"
      ]
     },
     "execution_count": 63,
     "metadata": {},
     "output_type": "execute_result"
    }
   ],
   "source": [
    "# Create feature selected model\n",
    "model = SelectFromModel(clf,prefit=True)\n",
    "X_new = model.transform(X)\n",
    "X_new.shape"
   ]
  },
  {
   "cell_type": "code",
   "execution_count": 92,
   "metadata": {
    "collapsed": false
   },
   "outputs": [],
   "source": [
    "# Create list of features identified\n",
    "features_selected = X.ix[:,model.get_support()]\n",
    "feature_list = features_selected.columns"
   ]
  },
  {
   "cell_type": "code",
   "execution_count": 102,
   "metadata": {
    "collapsed": false
   },
   "outputs": [
    {
     "data": {
      "text/html": [
       "<div>\n",
       "<table border=\"1\" class=\"dataframe\">\n",
       "  <thead>\n",
       "    <tr style=\"text-align: right;\">\n",
       "      <th></th>\n",
       "      <th>0</th>\n",
       "    </tr>\n",
       "  </thead>\n",
       "  <tbody>\n",
       "    <tr>\n",
       "      <th>SEX</th>\n",
       "      <td>0.022811</td>\n",
       "    </tr>\n",
       "    <tr>\n",
       "      <th>BMI</th>\n",
       "      <td>0.036045</td>\n",
       "    </tr>\n",
       "    <tr>\n",
       "      <th>AGE (normalized 30-80)</th>\n",
       "      <td>0.036580</td>\n",
       "    </tr>\n",
       "    <tr>\n",
       "      <th>ANAT_DEGREE_normalized VAR-VAL_-25_+25</th>\n",
       "      <td>0.035519</td>\n",
       "    </tr>\n",
       "    <tr>\n",
       "      <th>RC_WHT</th>\n",
       "      <td>0.021451</td>\n",
       "    </tr>\n",
       "    <tr>\n",
       "      <th>LTHPN_STD</th>\n",
       "      <td>0.016269</td>\n",
       "    </tr>\n",
       "    <tr>\n",
       "      <th>RTHPN_STD</th>\n",
       "      <td>0.012126</td>\n",
       "    </tr>\n",
       "    <tr>\n",
       "      <th>PTRT_NONE_YN</th>\n",
       "      <td>0.015408</td>\n",
       "    </tr>\n",
       "    <tr>\n",
       "      <th>PTRT_ARTHRO_YN</th>\n",
       "      <td>0.014163</td>\n",
       "    </tr>\n",
       "    <tr>\n",
       "      <th>PTRT_INTRA_INJECT_YN</th>\n",
       "      <td>0.014052</td>\n",
       "    </tr>\n",
       "    <tr>\n",
       "      <th>GM_NONE_YN</th>\n",
       "      <td>0.010105</td>\n",
       "    </tr>\n",
       "    <tr>\n",
       "      <th>GM_BACK_PAIN_YN</th>\n",
       "      <td>0.011978</td>\n",
       "    </tr>\n",
       "    <tr>\n",
       "      <th>GM_CARDIO_YN</th>\n",
       "      <td>0.015455</td>\n",
       "    </tr>\n",
       "    <tr>\n",
       "      <th>GM_DEPRESS_YN</th>\n",
       "      <td>0.009522</td>\n",
       "    </tr>\n",
       "    <tr>\n",
       "      <th>GM_DIABETES_YN</th>\n",
       "      <td>0.010673</td>\n",
       "    </tr>\n",
       "    <tr>\n",
       "      <th>GM_END_METABLIC_YN</th>\n",
       "      <td>0.011494</td>\n",
       "    </tr>\n",
       "    <tr>\n",
       "      <th>GM_GASTRO_DIS_YN</th>\n",
       "      <td>0.015411</td>\n",
       "    </tr>\n",
       "    <tr>\n",
       "      <th>GM_GENIT_DIS_YN</th>\n",
       "      <td>0.010231</td>\n",
       "    </tr>\n",
       "    <tr>\n",
       "      <th>GM_HEENT_YN</th>\n",
       "      <td>0.012858</td>\n",
       "    </tr>\n",
       "    <tr>\n",
       "      <th>GM_HYPTN_YN</th>\n",
       "      <td>0.019632</td>\n",
       "    </tr>\n",
       "    <tr>\n",
       "      <th>GM_HYPCHOL_YN</th>\n",
       "      <td>0.015191</td>\n",
       "    </tr>\n",
       "    <tr>\n",
       "      <th>GM_RESP_DIS_YN</th>\n",
       "      <td>0.013253</td>\n",
       "    </tr>\n",
       "    <tr>\n",
       "      <th>GM_OTHER_YN</th>\n",
       "      <td>0.019790</td>\n",
       "    </tr>\n",
       "    <tr>\n",
       "      <th>AP Alignment Angle</th>\n",
       "      <td>0.037259</td>\n",
       "    </tr>\n",
       "    <tr>\n",
       "      <th>Distal Femoral Angle</th>\n",
       "      <td>0.030269</td>\n",
       "    </tr>\n",
       "    <tr>\n",
       "      <th>Proximal Tibial Angle</th>\n",
       "      <td>0.034744</td>\n",
       "    </tr>\n",
       "    <tr>\n",
       "      <th>Femoral Component Flexion</th>\n",
       "      <td>0.038770</td>\n",
       "    </tr>\n",
       "    <tr>\n",
       "      <th>Posterior Tibial Slope</th>\n",
       "      <td>0.032569</td>\n",
       "    </tr>\n",
       "    <tr>\n",
       "      <th>PROC_DUR_MIN (normalized 25 to 230 min)</th>\n",
       "      <td>0.046015</td>\n",
       "    </tr>\n",
       "    <tr>\n",
       "      <th>DEVIMP_CRFB</th>\n",
       "      <td>0.020693</td>\n",
       "    </tr>\n",
       "    <tr>\n",
       "      <th>DEVIMP_CRRP</th>\n",
       "      <td>0.026570</td>\n",
       "    </tr>\n",
       "    <tr>\n",
       "      <th>SRG_APPROACH_MEDIAL_PARAPATELLAR</th>\n",
       "      <td>0.010964</td>\n",
       "    </tr>\n",
       "    <tr>\n",
       "      <th>SRG_APPROACH_TRIVECTOR</th>\n",
       "      <td>0.013568</td>\n",
       "    </tr>\n",
       "    <tr>\n",
       "      <th>PAT_MANAGE_EVERTED</th>\n",
       "      <td>0.017551</td>\n",
       "    </tr>\n",
       "    <tr>\n",
       "      <th>PAT_MANAGE_SUBLUXED</th>\n",
       "      <td>0.030388</td>\n",
       "    </tr>\n",
       "    <tr>\n",
       "      <th>RESECTION_GAPBALANCE</th>\n",
       "      <td>0.016799</td>\n",
       "    </tr>\n",
       "    <tr>\n",
       "      <th>ANTI_CEMENT</th>\n",
       "      <td>0.018202</td>\n",
       "    </tr>\n",
       "    <tr>\n",
       "      <th>ST_NONE_YN</th>\n",
       "      <td>0.012420</td>\n",
       "    </tr>\n",
       "    <tr>\n",
       "      <th>ST_SYN_YN</th>\n",
       "      <td>0.018474</td>\n",
       "    </tr>\n",
       "    <tr>\n",
       "      <th>ST_DEEP_MCL_YN</th>\n",
       "      <td>0.021450</td>\n",
       "    </tr>\n",
       "    <tr>\n",
       "      <th>ST_POST_MED_CAP_YN</th>\n",
       "      <td>0.017229</td>\n",
       "    </tr>\n",
       "  </tbody>\n",
       "</table>\n",
       "</div>"
      ],
      "text/plain": [
       "                                                0\n",
       "SEX                                      0.022811\n",
       "BMI                                      0.036045\n",
       "AGE (normalized 30-80)                   0.036580\n",
       "ANAT_DEGREE_normalized VAR-VAL_-25_+25   0.035519\n",
       "RC_WHT                                   0.021451\n",
       "LTHPN_STD                                0.016269\n",
       "RTHPN_STD                                0.012126\n",
       "PTRT_NONE_YN                             0.015408\n",
       "PTRT_ARTHRO_YN                           0.014163\n",
       "PTRT_INTRA_INJECT_YN                     0.014052\n",
       "GM_NONE_YN                               0.010105\n",
       "GM_BACK_PAIN_YN                          0.011978\n",
       "GM_CARDIO_YN                             0.015455\n",
       "GM_DEPRESS_YN                            0.009522\n",
       "GM_DIABETES_YN                           0.010673\n",
       "GM_END_METABLIC_YN                       0.011494\n",
       "GM_GASTRO_DIS_YN                         0.015411\n",
       "GM_GENIT_DIS_YN                          0.010231\n",
       "GM_HEENT_YN                              0.012858\n",
       "GM_HYPTN_YN                              0.019632\n",
       "GM_HYPCHOL_YN                            0.015191\n",
       "GM_RESP_DIS_YN                           0.013253\n",
       "GM_OTHER_YN                              0.019790\n",
       "AP Alignment Angle                       0.037259\n",
       "Distal Femoral Angle                     0.030269\n",
       "Proximal Tibial Angle                    0.034744\n",
       "Femoral Component Flexion                0.038770\n",
       "Posterior Tibial Slope                   0.032569\n",
       "PROC_DUR_MIN (normalized 25 to 230 min)  0.046015\n",
       "DEVIMP_CRFB                              0.020693\n",
       "DEVIMP_CRRP                              0.026570\n",
       "SRG_APPROACH_MEDIAL_PARAPATELLAR         0.010964\n",
       "SRG_APPROACH_TRIVECTOR                   0.013568\n",
       "PAT_MANAGE_EVERTED                       0.017551\n",
       "PAT_MANAGE_SUBLUXED                      0.030388\n",
       "RESECTION_GAPBALANCE                     0.016799\n",
       "ANTI_CEMENT                              0.018202\n",
       "ST_NONE_YN                               0.012420\n",
       "ST_SYN_YN                                0.018474\n",
       "ST_DEEP_MCL_YN                           0.021450\n",
       "ST_POST_MED_CAP_YN                       0.017229"
      ]
     },
     "execution_count": 102,
     "metadata": {},
     "output_type": "execute_result"
    }
   ],
   "source": [
    "# Adjust to make human readable\n",
    "# Create table of features and associated weights\n",
    "coefficients = pd.DataFrame(feature_weights).transpose()\n",
    "coefficients.columns = X.columns\n",
    "coefficients[feature_list].transpose()"
   ]
  },
  {
   "cell_type": "code",
   "execution_count": null,
   "metadata": {
    "collapsed": true
   },
   "outputs": [],
   "source": []
  }
 ],
 "metadata": {
  "anaconda-cloud": {},
  "kernelspec": {
   "display_name": "Python [conda root]",
   "language": "python",
   "name": "conda-root-py"
  },
  "language_info": {
   "codemirror_mode": {
    "name": "ipython",
    "version": 3
   },
   "file_extension": ".py",
   "mimetype": "text/x-python",
   "name": "python",
   "nbconvert_exporter": "python",
   "pygments_lexer": "ipython3",
   "version": "3.5.2"
  }
 },
 "nbformat": 4,
 "nbformat_minor": 1
}
