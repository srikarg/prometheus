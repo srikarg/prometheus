{
 "cells": [
  {
   "cell_type": "code",
   "execution_count": 7,
   "metadata": {
    "collapsed": false,
    "scrolled": true
   },
   "outputs": [
    {
     "data": {
      "text/plain": [
       "(2377, 127)"
      ]
     },
     "execution_count": 7,
     "metadata": {},
     "output_type": "execute_result"
    }
   ],
   "source": [
    "# Dependencies and dataload\n",
    "# Link to associated webkit\n",
    "# http://scikit-learn.org/stable/modules/feature_selection.html#l1-feature-selection\n",
    "# Module 1.13.4.1\n",
    "# Regularized Regression Model called GLMET \n",
    "# The elements of statistical learning \n",
    "# Good for sparse data and correlated variables \n",
    "\n",
    "\n",
    "import pandas as pd\n",
    "from numpy import genfromtxt\n",
    "from sklearn.svm import SVC\n",
    "from sklearn.svm import LinearSVC\n",
    "from sklearn.feature_selection import SelectFromModel\n",
    "\n",
    "\n",
    "my_data = pd.read_csv('/Users/stevensun/Prometheus/0_data/prometheus.csv')\n",
    "my_data.shape"
   ]
  },
  {
   "cell_type": "code",
   "execution_count": 8,
   "metadata": {
    "collapsed": false
   },
   "outputs": [
    {
     "data": {
      "text/plain": [
       "(690, 127)"
      ]
     },
     "execution_count": 8,
     "metadata": {},
     "output_type": "execute_result"
    }
   ],
   "source": [
    "#drop incomplete rows\n",
    "\n",
    "my_data = my_data.dropna()\n",
    "my_data.shape"
   ]
  },
  {
   "cell_type": "code",
   "execution_count": 9,
   "metadata": {
    "collapsed": false
   },
   "outputs": [],
   "source": [
    "# vectorize data\n",
    "\n",
    "X = my_data.ix[:,0:125]\n",
    "y = my_data.ix[:,126]"
   ]
  },
  {
   "cell_type": "code",
   "execution_count": 10,
   "metadata": {
    "collapsed": false
   },
   "outputs": [
    {
     "data": {
      "text/plain": [
       "(690, 33)"
      ]
     },
     "execution_count": 10,
     "metadata": {},
     "output_type": "execute_result"
    }
   ],
   "source": [
    "# C controls sparcity: The smaller C, the fewer features selcted\n",
    "#\n",
    "lsvc = LinearSVC(C=0.05, penalty=\"l1\", dual=False).fit(X,y)\n",
    "model = SelectFromModel(lsvc, prefit=True)\n",
    "X_new = model.transform(X)\n",
    "X_new.shape"
   ]
  },
  {
   "cell_type": "code",
   "execution_count": 11,
   "metadata": {
    "collapsed": false
   },
   "outputs": [
    {
     "data": {
      "text/plain": [
       "Index(['SEX', 'RC_WHT', 'RC_HISPLAT', 'PTRT_NONE_YN', 'PTRT_ARTHRO_YN',\n",
       "       'PTRT_INTRA_INJECT_YN', 'GM_BACK_PAIN_YN', 'GM_END_METABLIC_YN',\n",
       "       'GM_GENIT_DIS_YN', 'GM_HEENT_YN', 'GM_RESP_DIS_YN', 'GM_OTHER_YN',\n",
       "       'AP Alignment Angle', 'Distal Femoral Angle', 'Proximal Tibial Angle',\n",
       "       'Femoral Component Flexion', 'Posterior Tibial Slope', 'DEVIMP_PSFB',\n",
       "       'DEVIMP_PSRP', 'DEVIMP_CRFB', 'DEVIMP_CRRP',\n",
       "       'SRG_APPROACH_MEDIAL_PARAPATELLAR', 'SRG_APPROACH_TRIVECTOR',\n",
       "       'PAT_MANAGE_EVERTED', 'PAT_MANAGE_SUBLUXED', 'RESECTION_GAPBALANCE',\n",
       "       'RESECTION_MEASURED', 'ANTI_CEMENT', 'ST_NONE_YN', 'ST_SYN_YN',\n",
       "       'ST_DEEP_MCL_YN', 'ST_POST_MED_CAP_YN', 'preop KS_PAIN_STAIRS'],\n",
       "      dtype='object')"
      ]
     },
     "execution_count": 11,
     "metadata": {},
     "output_type": "execute_result"
    }
   ],
   "source": [
    "# Selected Features\n",
    "\n",
    "features_selected = X.ix[:,model.get_support()]\n",
    "pd.DataFrame(features_selected).columns"
   ]
  },
  {
   "cell_type": "code",
   "execution_count": 12,
   "metadata": {
    "collapsed": false
   },
   "outputs": [
    {
     "data": {
      "text/plain": [
       "SEX                                 0.145534\n",
       "RC_WHT                              0.173258\n",
       "RC_HISPLAT                          0.029628\n",
       "PTRT_NONE_YN                        0.035730\n",
       "PTRT_ARTHRO_YN                      0.000000\n",
       "PTRT_INTRA_INJECT_YN                0.202823\n",
       "GM_BACK_PAIN_YN                     0.041290\n",
       "GM_END_METABLIC_YN                  0.170256\n",
       "GM_GENIT_DIS_YN                     0.077510\n",
       "GM_HEENT_YN                         0.037510\n",
       "GM_RESP_DIS_YN                      0.035255\n",
       "GM_OTHER_YN                         0.093744\n",
       "AP Alignment Angle                  0.008603\n",
       "Distal Femoral Angle                0.003429\n",
       "Proximal Tibial Angle               0.010896\n",
       "Femoral Component Flexion           0.000584\n",
       "Posterior Tibial Slope              0.006263\n",
       "DEVIMP_PSFB                         0.000000\n",
       "DEVIMP_PSRP                         0.000000\n",
       "DEVIMP_CRFB                         0.251278\n",
       "DEVIMP_CRRP                         0.152427\n",
       "SRG_APPROACH_MEDIAL_PARAPATELLAR    0.000000\n",
       "SRG_APPROACH_TRIVECTOR              0.581728\n",
       "PAT_MANAGE_EVERTED                  0.000000\n",
       "PAT_MANAGE_SUBLUXED                 0.000000\n",
       "RESECTION_GAPBALANCE                0.000000\n",
       "RESECTION_MEASURED                  0.000000\n",
       "ANTI_CEMENT                         0.000000\n",
       "ST_NONE_YN                          0.000000\n",
       "ST_SYN_YN                           0.194932\n",
       "ST_DEEP_MCL_YN                      0.057400\n",
       "ST_POST_MED_CAP_YN                  0.041676\n",
       "preop KS_PAIN_STAIRS                0.000000\n",
       "dtype: float64"
      ]
     },
     "execution_count": 12,
     "metadata": {},
     "output_type": "execute_result"
    }
   ],
   "source": [
    "# Adjust to make human readable\n",
    "coefficients = pd.DataFrame(lsvc.coef_)\n",
    "coefficients.columns = X.columns\n",
    "features_selected = coefficients.loc[:,(coefficients != 0).any(axis=0)]\n",
    "features_selected.max()"
   ]
  },
  {
   "cell_type": "code",
   "execution_count": null,
   "metadata": {
    "collapsed": true
   },
   "outputs": [],
   "source": []
  },
  {
   "cell_type": "code",
   "execution_count": null,
   "metadata": {
    "collapsed": true
   },
   "outputs": [],
   "source": []
  },
  {
   "cell_type": "code",
   "execution_count": null,
   "metadata": {
    "collapsed": true
   },
   "outputs": [],
   "source": []
  }
 ],
 "metadata": {
  "anaconda-cloud": {},
  "kernelspec": {
   "display_name": "Python [conda root]",
   "language": "python",
   "name": "conda-root-py"
  },
  "language_info": {
   "codemirror_mode": {
    "name": "ipython",
    "version": 3
   },
   "file_extension": ".py",
   "mimetype": "text/x-python",
   "name": "python",
   "nbconvert_exporter": "python",
   "pygments_lexer": "ipython3",
   "version": "3.5.2"
  }
 },
 "nbformat": 4,
 "nbformat_minor": 1
}
