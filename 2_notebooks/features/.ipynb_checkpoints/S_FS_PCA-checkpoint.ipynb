{
 "cells": [
  {
   "cell_type": "code",
   "execution_count": 8,
   "metadata": {
    "collapsed": false
   },
   "outputs": [
    {
     "data": {
      "text/plain": [
       "(2377, 127)"
      ]
     },
     "execution_count": 8,
     "metadata": {},
     "output_type": "execute_result"
    }
   ],
   "source": [
    "# Dependencies and dataload\n",
    "# Link to associated webkit\n",
    "# http://scikit-learn.org/stable/modules/feature_selection.html#l1-feature-selection\n",
    "# Module 1.13.4.1\n",
    "\n",
    "import pandas as pd\n",
    "import numpy as np\n",
    "import matplotlib.pyplot as plt\n",
    "from numpy import genfromtxt\n",
    "from sklearn.svm import SVC\n",
    "from sklearn.svm import LinearSVC\n",
    "from sklearn.decomposition import PCA\n",
    "# PCA optimized for mixed numerical and categorical variables\n",
    "from sklearn.feature_selection import SelectKBest\n",
    "from sklearn.feature_selection import SelectFromModel\n",
    "\n",
    "\n",
    "my_data = pd.read_csv('/Users/stevensun/Prometheus/0_data/prometheus.csv')\n",
    "my_data.shape"
   ]
  },
  {
   "cell_type": "code",
   "execution_count": 9,
   "metadata": {
    "collapsed": false
   },
   "outputs": [
    {
     "data": {
      "text/plain": [
       "(690, 127)"
      ]
     },
     "execution_count": 9,
     "metadata": {},
     "output_type": "execute_result"
    }
   ],
   "source": [
    "#drop incomplete rows\n",
    "\n",
    "my_data = my_data.dropna()\n",
    "my_data.shape"
   ]
  },
  {
   "cell_type": "code",
   "execution_count": 10,
   "metadata": {
    "collapsed": false
   },
   "outputs": [],
   "source": [
    "# vectorize data\n",
    "\n",
    "X = my_data.ix[:,0:125]\n",
    "y = my_data.ix[:,126]"
   ]
  },
  {
   "cell_type": "code",
   "execution_count": 11,
   "metadata": {
    "collapsed": false
   },
   "outputs": [],
   "source": [
    "# Set up PCAs and K Best\n",
    "# 11 and 41 components determined from LinSVC and Extra Trees\n",
    "\n",
    "pca11 = PCA(n_components=11)\n",
    "pca41 = PCA(n_components=41)"
   ]
  },
  {
   "cell_type": "code",
   "execution_count": 12,
   "metadata": {
    "collapsed": false
   },
   "outputs": [
    {
     "data": {
      "text/plain": [
       "array([[  1.02437556e+01,  -5.81290300e-01,  -2.34809456e+00, ...,\n",
       "          2.56851220e-02,  -4.84586773e-01,  -2.00300475e-02],\n",
       "       [  1.04830126e+01,   1.63837998e+00,  -3.52299175e+00, ...,\n",
       "          5.22347276e-02,  -7.06637827e-02,  -7.92632969e-02],\n",
       "       [  1.03154483e+01,  -9.73527744e-01,  -4.22371369e+00, ...,\n",
       "         -2.16753552e-01,  -1.86385475e-01,  -3.06346062e-01],\n",
       "       ..., \n",
       "       [  8.88559768e+00,  -1.87387855e+00,   3.60486323e+00, ...,\n",
       "          4.53632888e-01,   1.67567086e-01,  -4.29655114e-03],\n",
       "       [  1.23372955e+01,  -5.60638035e-01,  -2.65412434e+00, ...,\n",
       "          5.10135727e-01,   1.41208897e-01,   7.99277780e-02],\n",
       "       [  8.46195602e+00,  -3.40317219e+00,  -3.58705075e-01, ...,\n",
       "         -1.00166149e-01,  -4.86610222e-01,  -3.91674675e-01]])"
      ]
     },
     "execution_count": 12,
     "metadata": {},
     "output_type": "execute_result"
    }
   ],
   "source": [
    "# Run PCA11,PCA41\n",
    "\n",
    "pca11.fit_transform(X)\n",
    "pca41.fit_transform(X)"
   ]
  },
  {
   "cell_type": "code",
   "execution_count": 13,
   "metadata": {
    "collapsed": false
   },
   "outputs": [
    {
     "data": {
      "text/plain": [
       "0.961395952426495"
      ]
     },
     "execution_count": 13,
     "metadata": {},
     "output_type": "execute_result"
    }
   ],
   "source": [
    "# PCA11 Variance Evaluation\n",
    "\n",
    "pd.DataFrame(pca11.components_, columns=X.columns).transpose()\n",
    "np.sum(pca11.explained_variance_ratio_)"
   ]
  },
  {
   "cell_type": "code",
   "execution_count": 14,
   "metadata": {
    "collapsed": false
   },
   "outputs": [
    {
     "data": {
      "text/plain": [
       "Proximal Tibial Angle     0.619323\n",
       "GM_GENIT_DIS_YN           0.616768\n",
       "GM_CANCER_YN              0.601135\n",
       "GM_BACK_PAIN_YN           0.535653\n",
       "GM_DEPRESS_YN             0.509287\n",
       "GM_HYPCHOL_YN             0.492039\n",
       "GM_DIABETES_YN            0.491006\n",
       "PTRT_INTRA_INJECT_YN      0.484291\n",
       "ST_DEEP_MCL_YN            0.481986\n",
       "PTRT_ARTHRO_YN            0.430309\n",
       "GM_CARDIO_YN              0.427223\n",
       "GM_HEENT_YN               0.400912\n",
       "ST_POST_MED_CAP_YN        0.400568\n",
       "GM_RENAL_DIS_YN           0.398189\n",
       "ST_POST_LAT_CAP_YN        0.379045\n",
       "PTRT_MENIS_YN             0.367049\n",
       "GM_GASTRO_DIS_YN          0.361979\n",
       "SRG_APPROACH_MIDVASTUS    0.357895\n",
       "PAT_MANAGE_EVERTED        0.351630\n",
       "ANTI_CEMENT               0.344051\n",
       "GM_OTHER_YN               0.341076\n",
       "DEVIMP_PSFB               0.330203\n",
       "GM_GOUT_YN                0.326378\n",
       "AP Alignment Angle        0.322633\n",
       "GM_RESP_DIS_YN            0.320441\n",
       "GM_NONE_YN                0.312083\n",
       "GM_HYPTN_YN               0.310955\n",
       "GM_HEMA_DIS_YN            0.309373\n",
       "SEX                       0.301542\n",
       "GM_OSTEO_YN               0.297525\n",
       "RESECTION_GAPBALANCE      0.295118\n",
       "DEVIMP_CRFB               0.292915\n",
       "PTRT_NONE_YN              0.290182\n",
       "ST_SYN_YN                 0.282941\n",
       "preop PKIP modify         0.279915\n",
       "GM_END_METABLIC_YN        0.275814\n",
       "preop KS_PAT_EXP3         0.268498\n",
       "PAT_RESURFACE             0.268084\n",
       "Unnamed: 90               0.268084\n",
       "SRG_APPROACH_TRIVECTOR    0.262516\n",
       "Distal Femoral Angle      0.253964\n",
       "dtype: float64"
      ]
     },
     "execution_count": 14,
     "metadata": {},
     "output_type": "execute_result"
    }
   ],
   "source": [
    "# PCA41 Variance Evaluation, use nlargest to evaluate \n",
    "\n",
    "pd.DataFrame(pca41.components_, columns=X.columns).max().nlargest(41)"
   ]
  },
  {
   "cell_type": "code",
   "execution_count": 15,
   "metadata": {
    "collapsed": false
   },
   "outputs": [
    {
     "ename": "NameError",
     "evalue": "name 'PCA_eval' is not defined",
     "output_type": "error",
     "traceback": [
      "\u001b[0;31m--------------------\u001b[0m",
      "\u001b[0;31mNameError\u001b[0mTraceback (most recent call last)",
      "\u001b[0;32m<ipython-input-15-5ee1a9ef6bf2>\u001b[0m in \u001b[0;36m<module>\u001b[0;34m()\u001b[0m\n\u001b[1;32m      1\u001b[0m \u001b[0;32mfor\u001b[0m \u001b[0mx\u001b[0m \u001b[0;32min\u001b[0m \u001b[0mrange\u001b[0m\u001b[0;34m(\u001b[0m\u001b[0;36m1\u001b[0m\u001b[0;34m,\u001b[0m\u001b[0;36m109\u001b[0m\u001b[0;34m)\u001b[0m\u001b[0;34m:\u001b[0m\u001b[0;34m\u001b[0m\u001b[0m\n\u001b[0;32m----> 2\u001b[0;31m     \u001b[0mPCA_eval\u001b[0m\u001b[0;34m.\u001b[0m\u001b[0mappend\u001b[0m\u001b[0;34m(\u001b[0m\u001b[0;34m[\u001b[0m\u001b[0mnp\u001b[0m\u001b[0;34m.\u001b[0m\u001b[0msum\u001b[0m\u001b[0;34m(\u001b[0m\u001b[0mdoPCA\u001b[0m\u001b[0;34m(\u001b[0m\u001b[0mtest\u001b[0m\u001b[0;34m,\u001b[0m\u001b[0mx\u001b[0m\u001b[0;34m)\u001b[0m\u001b[0;34m.\u001b[0m\u001b[0mexplained_variance_ratio_\u001b[0m\u001b[0;34m)\u001b[0m\u001b[0;34m,\u001b[0m\u001b[0mdoPCA\u001b[0m\u001b[0;34m(\u001b[0m\u001b[0mtest\u001b[0m\u001b[0;34m,\u001b[0m\u001b[0mx\u001b[0m\u001b[0;34m)\u001b[0m\u001b[0;34m.\u001b[0m\u001b[0mnoise_variance_\u001b[0m\u001b[0;34m,\u001b[0m\u001b[0mdoPCA\u001b[0m\u001b[0;34m(\u001b[0m\u001b[0mtest\u001b[0m\u001b[0;34m,\u001b[0m\u001b[0mx\u001b[0m\u001b[0;34m)\u001b[0m\u001b[0;34m.\u001b[0m\u001b[0mexplained_variance_ratio_\u001b[0m\u001b[0;34m]\u001b[0m\u001b[0;34m)\u001b[0m\u001b[0;34m\u001b[0m\u001b[0m\n\u001b[0m\u001b[1;32m      3\u001b[0m \u001b[0;34m\u001b[0m\u001b[0m\n\u001b[1;32m      4\u001b[0m \u001b[0mPCA_eval\u001b[0m\u001b[0;34m\u001b[0m\u001b[0m\n",
      "\u001b[0;31mNameError\u001b[0m: name 'PCA_eval' is not defined"
     ]
    }
   ],
   "source": [
    "for x in range(1,109):\n",
    "    PCA_eval.append([np.sum(doPCA(test,x).explained_variance_ratio_),doPCA(test,x).noise_variance_,doPCA(test,x).explained_variance_ratio_])\n",
    "\n",
    "PCA_eval"
   ]
  },
  {
   "cell_type": "code",
   "execution_count": null,
   "metadata": {
    "collapsed": false
   },
   "outputs": [],
   "source": [
    "def doPCA(df, components):\n",
    "    pca = PCA(n_components= components, svd_solver='full')\n",
    "    pca.fit(df)\n",
    "    return pca"
   ]
  },
  {
   "cell_type": "code",
   "execution_count": 16,
   "metadata": {
    "collapsed": true
   },
   "outputs": [],
   "source": [
    "def rotateColumns(df):\n",
    "    column = df[df.columns[len(df.columns)-1]]\n",
    "    column_label = df.columns[len(df.columns)-1]\n",
    "    df.drop(labels=column_label, axis=1,inplace = True)\n",
    "    df.insert(0,column_label,column)\n",
    "    "
   ]
  },
  {
   "cell_type": "code",
   "execution_count": null,
   "metadata": {
    "collapsed": true
   },
   "outputs": [],
   "source": []
  }
 ],
 "metadata": {
  "anaconda-cloud": {},
  "kernelspec": {
   "display_name": "Python [conda root]",
   "language": "python",
   "name": "conda-root-py"
  },
  "language_info": {
   "codemirror_mode": {
    "name": "ipython",
    "version": 3
   },
   "file_extension": ".py",
   "mimetype": "text/x-python",
   "name": "python",
   "nbconvert_exporter": "python",
   "pygments_lexer": "ipython3",
   "version": "3.5.2"
  }
 },
 "nbformat": 4,
 "nbformat_minor": 1
}
