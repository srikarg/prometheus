{
 "cells": [
  {
   "cell_type": "code",
   "execution_count": 168,
   "metadata": {
    "collapsed": false,
    "scrolled": true
   },
   "outputs": [
    {
     "data": {
      "text/plain": [
       "(2377, 127)"
      ]
     },
     "execution_count": 168,
     "metadata": {},
     "output_type": "execute_result"
    }
   ],
   "source": [
    "# Dependencies and dataload\n",
    "# Link to associated webkit\n",
    "# http://scikit-learn.org/stable/modules/feature_selection.html#l1-feature-selection\n",
    "# Module 1.13.4.1\n",
    "# Regularized Regression Model called GLMET \n",
    "# The elements of statistical learning \n",
    "# Good for sparse data and correlated variables \n",
    "\n",
    "\n",
    "import pandas as pd\n",
    "import numpy as np\n",
    "from numpy import genfromtxt\n",
    "from sklearn.svm import SVC\n",
    "from sklearn.svm import LinearSVC\n",
    "from sklearn.linear_model import Lasso\n",
    "from sklearn.linear_model import LogisticRegression\n",
    "from sklearn.feature_selection import SelectFromModel\n",
    "\n",
    "\n",
    "my_data = pd.read_csv('/Users/stevensun/Prometheus/0_data/prometheus.csv')\n",
    "my_data.shape"
   ]
  },
  {
   "cell_type": "code",
   "execution_count": 169,
   "metadata": {
    "collapsed": false
   },
   "outputs": [
    {
     "data": {
      "text/plain": [
       "(690, 127)"
      ]
     },
     "execution_count": 169,
     "metadata": {},
     "output_type": "execute_result"
    }
   ],
   "source": [
    "#drop incomplete rows\n",
    "\n",
    "my_data = my_data.dropna()\n",
    "my_data.shape"
   ]
  },
  {
   "cell_type": "code",
   "execution_count": 170,
   "metadata": {
    "collapsed": false
   },
   "outputs": [],
   "source": [
    "# vectorize data\n",
    "\n",
    "X = my_data.ix[:,0:125]\n",
    "y = my_data.ix[:,126]\n",
    "X_headers = X.columns"
   ]
  },
  {
   "cell_type": "code",
   "execution_count": 179,
   "metadata": {
    "collapsed": false
   },
   "outputs": [],
   "source": [
    "# alpha refers to constant multiplied to L1 term: alpha = 0 is equivalent to OLS\n",
    "# The higher the alpha, the less features selected\n",
    "\n",
    "clf = Lasso(alpha = 0.03)\n",
    "X_new = clf.fit(X,y)\n",
    "headers = np.array(X.columns)\n",
    "features = pd.DataFrame(X_new.coef_).transpose()\n",
    "features.columns = headers\n"
   ]
  },
  {
   "cell_type": "code",
   "execution_count": 180,
   "metadata": {
    "collapsed": false
   },
   "outputs": [
    {
     "data": {
      "text/html": [
       "<div>\n",
       "<table border=\"1\" class=\"dataframe\">\n",
       "  <thead>\n",
       "    <tr style=\"text-align: right;\">\n",
       "      <th></th>\n",
       "      <th>Values</th>\n",
       "    </tr>\n",
       "  </thead>\n",
       "  <tbody>\n",
       "    <tr>\n",
       "      <th>RC_WHT</th>\n",
       "      <td>-7.535735e-01</td>\n",
       "    </tr>\n",
       "    <tr>\n",
       "      <th>RESECTION_GAPBALANCE</th>\n",
       "      <td>-4.544315e-01</td>\n",
       "    </tr>\n",
       "    <tr>\n",
       "      <th>DEVIMP_CRRP</th>\n",
       "      <td>-2.983157e-01</td>\n",
       "    </tr>\n",
       "    <tr>\n",
       "      <th>GM_OTHER_YN</th>\n",
       "      <td>-2.372375e-01</td>\n",
       "    </tr>\n",
       "    <tr>\n",
       "      <th>GM_GENIT_DIS_YN</th>\n",
       "      <td>-1.703965e-01</td>\n",
       "    </tr>\n",
       "    <tr>\n",
       "      <th>PTRT_MENIS_YN</th>\n",
       "      <td>-1.521047e-01</td>\n",
       "    </tr>\n",
       "    <tr>\n",
       "      <th>PTRT_INTRA_INJECT_YN</th>\n",
       "      <td>-1.386236e-01</td>\n",
       "    </tr>\n",
       "    <tr>\n",
       "      <th>ST_SYN_YN</th>\n",
       "      <td>-9.718863e-02</td>\n",
       "    </tr>\n",
       "    <tr>\n",
       "      <th>GM_HYPCHOL_YN</th>\n",
       "      <td>-2.265818e-02</td>\n",
       "    </tr>\n",
       "    <tr>\n",
       "      <th>Femoral Component Flexion</th>\n",
       "      <td>-1.964541e-03</td>\n",
       "    </tr>\n",
       "    <tr>\n",
       "      <th>RESECTION_MEASURED</th>\n",
       "      <td>5.992808e-16</td>\n",
       "    </tr>\n",
       "    <tr>\n",
       "      <th>ST_DEEP_MCL_YN</th>\n",
       "      <td>2.454554e-03</td>\n",
       "    </tr>\n",
       "    <tr>\n",
       "      <th>SEX</th>\n",
       "      <td>3.943889e-02</td>\n",
       "    </tr>\n",
       "    <tr>\n",
       "      <th>Posterior Tibial Slope</th>\n",
       "      <td>4.320249e-02</td>\n",
       "    </tr>\n",
       "    <tr>\n",
       "      <th>GM_DEPRESS_YN</th>\n",
       "      <td>8.185632e-02</td>\n",
       "    </tr>\n",
       "    <tr>\n",
       "      <th>Proximal Tibial Angle</th>\n",
       "      <td>9.154652e-02</td>\n",
       "    </tr>\n",
       "    <tr>\n",
       "      <th>DEVIMP_PSRP</th>\n",
       "      <td>1.497910e-01</td>\n",
       "    </tr>\n",
       "    <tr>\n",
       "      <th>PTRT_NONE_YN</th>\n",
       "      <td>2.069984e-01</td>\n",
       "    </tr>\n",
       "    <tr>\n",
       "      <th>ANTI_CEMENT</th>\n",
       "      <td>2.231046e-01</td>\n",
       "    </tr>\n",
       "    <tr>\n",
       "      <th>GM_BACK_PAIN_YN</th>\n",
       "      <td>3.603635e-01</td>\n",
       "    </tr>\n",
       "    <tr>\n",
       "      <th>PAT_MANAGE_EVERTED</th>\n",
       "      <td>5.108204e-01</td>\n",
       "    </tr>\n",
       "  </tbody>\n",
       "</table>\n",
       "</div>"
      ],
      "text/plain": [
       "                                 Values\n",
       "RC_WHT                    -7.535735e-01\n",
       "RESECTION_GAPBALANCE      -4.544315e-01\n",
       "DEVIMP_CRRP               -2.983157e-01\n",
       "GM_OTHER_YN               -2.372375e-01\n",
       "GM_GENIT_DIS_YN           -1.703965e-01\n",
       "PTRT_MENIS_YN             -1.521047e-01\n",
       "PTRT_INTRA_INJECT_YN      -1.386236e-01\n",
       "ST_SYN_YN                 -9.718863e-02\n",
       "GM_HYPCHOL_YN             -2.265818e-02\n",
       "Femoral Component Flexion -1.964541e-03\n",
       "RESECTION_MEASURED         5.992808e-16\n",
       "ST_DEEP_MCL_YN             2.454554e-03\n",
       "SEX                        3.943889e-02\n",
       "Posterior Tibial Slope     4.320249e-02\n",
       "GM_DEPRESS_YN              8.185632e-02\n",
       "Proximal Tibial Angle      9.154652e-02\n",
       "DEVIMP_PSRP                1.497910e-01\n",
       "PTRT_NONE_YN               2.069984e-01\n",
       "ANTI_CEMENT                2.231046e-01\n",
       "GM_BACK_PAIN_YN            3.603635e-01\n",
       "PAT_MANAGE_EVERTED         5.108204e-01"
      ]
     },
     "execution_count": 180,
     "metadata": {},
     "output_type": "execute_result"
    }
   ],
   "source": [
    "# Feature visualization\n",
    "# Drow row values = 0\n",
    "# Order from least to most \n",
    "\n",
    "viz = features.transpose()\n",
    "viz.columns = ['Values']\n",
    "viz = viz[(viz.T != 0).any()]\n",
    "viz.sort_values(by = 'Values', ascending = True)"
   ]
  },
  {
   "cell_type": "code",
   "execution_count": null,
   "metadata": {
    "collapsed": true
   },
   "outputs": [],
   "source": []
  }
 ],
 "metadata": {
  "anaconda-cloud": {},
  "kernelspec": {
   "display_name": "Python [conda root]",
   "language": "python",
   "name": "conda-root-py"
  },
  "language_info": {
   "codemirror_mode": {
    "name": "ipython",
    "version": 3
   },
   "file_extension": ".py",
   "mimetype": "text/x-python",
   "name": "python",
   "nbconvert_exporter": "python",
   "pygments_lexer": "ipython3",
   "version": "3.5.2"
  }
 },
 "nbformat": 4,
 "nbformat_minor": 1
}
